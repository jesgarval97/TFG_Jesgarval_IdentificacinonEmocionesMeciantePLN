{
 "cells": [
  {
   "cell_type": "code",
   "execution_count": 1,
   "id": "05570485",
   "metadata": {
    "id": "05570485"
   },
   "outputs": [],
   "source": [
    "#!pip install scikit-plot"
   ]
  },
  {
   "cell_type": "code",
   "execution_count": 2,
   "id": "5b9cb2aa",
   "metadata": {
    "id": "5b9cb2aa"
   },
   "outputs": [],
   "source": [
    "import pandas as pd\n",
    "import numpy as np\n",
    "import matplotlib.pyplot as plt\n",
    "import seaborn as sns\n",
    "import scikitplot as skplt\n",
    "from tqdm import tqdm\n",
    "from gensim.models.doc2vec import TaggedDocument\n",
    "from sklearn.feature_extraction.text import CountVectorizer\n",
    "from sklearn.model_selection import train_test_split\n",
    "from sklearn.metrics import classification_report,confusion_matrix,accuracy_score,recall_score,precision_score\n",
    "from sklearn.naive_bayes import MultinomialNB\n",
    "pd.set_option('display.float_format', lambda x: '%.3f' % x)"
   ]
  },
  {
   "cell_type": "code",
   "execution_count": 3,
   "id": "7f55be75",
   "metadata": {
    "id": "7f55be75",
    "outputId": "59a35d5b-a6ad-4e33-85ef-84e1dd9ce67b"
   },
   "outputs": [
    {
     "data": {
      "text/html": [
       "<div>\n",
       "<style scoped>\n",
       "    .dataframe tbody tr th:only-of-type {\n",
       "        vertical-align: middle;\n",
       "    }\n",
       "\n",
       "    .dataframe tbody tr th {\n",
       "        vertical-align: top;\n",
       "    }\n",
       "\n",
       "    .dataframe thead th {\n",
       "        text-align: right;\n",
       "    }\n",
       "</style>\n",
       "<table border=\"1\" class=\"dataframe\">\n",
       "  <thead>\n",
       "    <tr style=\"text-align: right;\">\n",
       "      <th></th>\n",
       "      <th>text</th>\n",
       "      <th>author</th>\n",
       "      <th>source</th>\n",
       "      <th>timestamp</th>\n",
       "      <th>id</th>\n",
       "      <th>Puntuaciones</th>\n",
       "      <th>Puntuacion</th>\n",
       "      <th>Polaridad</th>\n",
       "      <th>Texto Preprocesado</th>\n",
       "      <th>Raiz Palabras</th>\n",
       "    </tr>\n",
       "  </thead>\n",
       "  <tbody>\n",
       "    <tr>\n",
       "      <th>0</th>\n",
       "      <td>estrenos mensuales en  netflix disney y prime ...</td>\n",
       "      <td>159917675</td>\n",
       "      <td>Twitter for iPhone</td>\n",
       "      <td>2022-01-01 01:22:09</td>\n",
       "      <td>1477087717167087621</td>\n",
       "      <td>{'neg': 0.0, 'neu': 1.0, 'pos': 0.0, 'compound...</td>\n",
       "      <td>0.000</td>\n",
       "      <td>Neutral</td>\n",
       "      <td>estrenos mensuales netflix disney prime video ...</td>\n",
       "      <td>estren mensual netflix disney prim vide blog</td>\n",
       "    </tr>\n",
       "    <tr>\n",
       "      <th>1</th>\n",
       "      <td>albert alfred y la magia echa serie music...</td>\n",
       "      <td>385918940</td>\n",
       "      <td>Twitter for Android</td>\n",
       "      <td>2022-01-01 02:27:16</td>\n",
       "      <td>1477104103926996994</td>\n",
       "      <td>{'neg': 0.0, 'neu': 0.945, 'pos': 0.055, 'comp...</td>\n",
       "      <td>0.421</td>\n",
       "      <td>Positivo</td>\n",
       "      <td>albert alfredo magia echa serie musica literat...</td>\n",
       "      <td>albert alfred magi echa seri music literatur n...</td>\n",
       "    </tr>\n",
       "    <tr>\n",
       "      <th>2</th>\n",
       "      <td>tratar a todos los equipos de futbol en las r...</td>\n",
       "      <td>238286158</td>\n",
       "      <td>Talon Android</td>\n",
       "      <td>2022-01-01 08:20:30</td>\n",
       "      <td>1477192997016113153</td>\n",
       "      <td>{'neg': 0.0, 'neu': 0.748, 'pos': 0.252, 'comp...</td>\n",
       "      <td>0.402</td>\n",
       "      <td>Positivo</td>\n",
       "      <td>tratar equipos futbol retransmisiones igual</td>\n",
       "      <td>trat equip futbol retransmision igual</td>\n",
       "    </tr>\n",
       "    <tr>\n",
       "      <th>3</th>\n",
       "      <td>bajada de precio de la fibra mejorar la calid...</td>\n",
       "      <td>82388144</td>\n",
       "      <td>Twitter for Android</td>\n",
       "      <td>2022-01-01 08:51:51</td>\n",
       "      <td>1477200887663804421</td>\n",
       "      <td>{'neg': 0.081, 'neu': 0.704, 'pos': 0.215, 'co...</td>\n",
       "      <td>0.557</td>\n",
       "      <td>Positivo</td>\n",
       "      <td>bajada precio fibra mejorar calidad sonido ima...</td>\n",
       "      <td>baj preci fibr mejor calid son imag canal mejo...</td>\n",
       "    </tr>\n",
       "    <tr>\n",
       "      <th>4</th>\n",
       "      <td>postes de  cortando la dp a la altura del km e...</td>\n",
       "      <td>196401713</td>\n",
       "      <td>Twitter for iPhone</td>\n",
       "      <td>2022-01-01 09:22:55</td>\n",
       "      <td>1477208706182000640</td>\n",
       "      <td>{'neg': 0.097, 'neu': 0.903, 'pos': 0.0, 'comp...</td>\n",
       "      <td>-0.128</td>\n",
       "      <td>Negativo</td>\n",
       "      <td>postes cortando altura km ares corona</td>\n",
       "      <td>post cort altur km ares coron</td>\n",
       "    </tr>\n",
       "    <tr>\n",
       "      <th>...</th>\n",
       "      <td>...</td>\n",
       "      <td>...</td>\n",
       "      <td>...</td>\n",
       "      <td>...</td>\n",
       "      <td>...</td>\n",
       "      <td>...</td>\n",
       "      <td>...</td>\n",
       "      <td>...</td>\n",
       "      <td>...</td>\n",
       "      <td>...</td>\n",
       "    </tr>\n",
       "    <tr>\n",
       "      <th>159851</th>\n",
       "      <td>los clientes ya sabemos eso los que no se sab...</td>\n",
       "      <td>1227852829257326592</td>\n",
       "      <td>Twitter Web App</td>\n",
       "      <td>2022-06-30 20:26:43</td>\n",
       "      <td>1542605573895725056</td>\n",
       "      <td>{'neg': 0.056, 'neu': 0.792, 'pos': 0.151, 'co...</td>\n",
       "      <td>0.476</td>\n",
       "      <td>Positivo</td>\n",
       "      <td>clientes sabemos saben cumplen contrato deberi...</td>\n",
       "      <td>client sab sab cumpl contrat deberi leer contr...</td>\n",
       "    </tr>\n",
       "    <tr>\n",
       "      <th>159852</th>\n",
       "      <td>lo que me gustaria saber es por que llevo una...</td>\n",
       "      <td>1168354052</td>\n",
       "      <td>Twitter for Android</td>\n",
       "      <td>2022-06-30 21:07:14</td>\n",
       "      <td>1542615768289902592</td>\n",
       "      <td>{'neg': 0.0, 'neu': 0.796, 'pos': 0.204, 'comp...</td>\n",
       "      <td>0.827</td>\n",
       "      <td>Positivo</td>\n",
       "      <td>gustaria saber llevo semana contratando servic...</td>\n",
       "      <td>gustari sab llev seman contrat servici ofert g...</td>\n",
       "    </tr>\n",
       "    <tr>\n",
       "      <th>159853</th>\n",
       "      <td>deberias cambiar esa bandera absurda o ahora ...</td>\n",
       "      <td>1397178749985202176</td>\n",
       "      <td>Twitter for Android</td>\n",
       "      <td>2022-06-30 21:55:32</td>\n",
       "      <td>1542627925358481409</td>\n",
       "      <td>{'neg': 0.0, 'neu': 1.0, 'pos': 0.0, 'compound...</td>\n",
       "      <td>0.000</td>\n",
       "      <td>Neutral</td>\n",
       "      <td>deberias cambiar bandera absurda ahora lobo</td>\n",
       "      <td>deberi cambi bander absurd ahor lob</td>\n",
       "    </tr>\n",
       "    <tr>\n",
       "      <th>159854</th>\n",
       "      <td>ya me falta poco y cambio de empresa suerte</td>\n",
       "      <td>452596569</td>\n",
       "      <td>Twitter for Android</td>\n",
       "      <td>2022-06-30 22:17:56</td>\n",
       "      <td>1542633561169305602</td>\n",
       "      <td>{'neg': 0.0, 'neu': 0.732, 'pos': 0.268, 'comp...</td>\n",
       "      <td>0.509</td>\n",
       "      <td>Positivo</td>\n",
       "      <td>falta cambio empresa suerte</td>\n",
       "      <td>falt cambi empres suert</td>\n",
       "    </tr>\n",
       "    <tr>\n",
       "      <th>159855</th>\n",
       "      <td>por sus camaras</td>\n",
       "      <td>1537326778787807232</td>\n",
       "      <td>Twitter for Android</td>\n",
       "      <td>2022-06-30 23:39:56</td>\n",
       "      <td>1542654199678255110</td>\n",
       "      <td>{'neg': 0.0, 'neu': 1.0, 'pos': 0.0, 'compound...</td>\n",
       "      <td>0.000</td>\n",
       "      <td>Neutral</td>\n",
       "      <td>camaras</td>\n",
       "      <td>cam</td>\n",
       "    </tr>\n",
       "  </tbody>\n",
       "</table>\n",
       "<p>159856 rows × 10 columns</p>\n",
       "</div>"
      ],
      "text/plain": [
       "                                                     text  \\\n",
       "0       estrenos mensuales en  netflix disney y prime ...   \n",
       "1            albert alfred y la magia echa serie music...   \n",
       "2        tratar a todos los equipos de futbol en las r...   \n",
       "3        bajada de precio de la fibra mejorar la calid...   \n",
       "4       postes de  cortando la dp a la altura del km e...   \n",
       "...                                                   ...   \n",
       "159851   los clientes ya sabemos eso los que no se sab...   \n",
       "159852   lo que me gustaria saber es por que llevo una...   \n",
       "159853   deberias cambiar esa bandera absurda o ahora ...   \n",
       "159854        ya me falta poco y cambio de empresa suerte   \n",
       "159855                                    por sus camaras   \n",
       "\n",
       "                     author               source            timestamp  \\\n",
       "0                 159917675   Twitter for iPhone  2022-01-01 01:22:09   \n",
       "1                 385918940  Twitter for Android  2022-01-01 02:27:16   \n",
       "2                 238286158        Talon Android  2022-01-01 08:20:30   \n",
       "3                  82388144  Twitter for Android  2022-01-01 08:51:51   \n",
       "4                 196401713   Twitter for iPhone  2022-01-01 09:22:55   \n",
       "...                     ...                  ...                  ...   \n",
       "159851  1227852829257326592      Twitter Web App  2022-06-30 20:26:43   \n",
       "159852           1168354052  Twitter for Android  2022-06-30 21:07:14   \n",
       "159853  1397178749985202176  Twitter for Android  2022-06-30 21:55:32   \n",
       "159854            452596569  Twitter for Android  2022-06-30 22:17:56   \n",
       "159855  1537326778787807232  Twitter for Android  2022-06-30 23:39:56   \n",
       "\n",
       "                         id  \\\n",
       "0       1477087717167087621   \n",
       "1       1477104103926996994   \n",
       "2       1477192997016113153   \n",
       "3       1477200887663804421   \n",
       "4       1477208706182000640   \n",
       "...                     ...   \n",
       "159851  1542605573895725056   \n",
       "159852  1542615768289902592   \n",
       "159853  1542627925358481409   \n",
       "159854  1542633561169305602   \n",
       "159855  1542654199678255110   \n",
       "\n",
       "                                             Puntuaciones  Puntuacion  \\\n",
       "0       {'neg': 0.0, 'neu': 1.0, 'pos': 0.0, 'compound...       0.000   \n",
       "1       {'neg': 0.0, 'neu': 0.945, 'pos': 0.055, 'comp...       0.421   \n",
       "2       {'neg': 0.0, 'neu': 0.748, 'pos': 0.252, 'comp...       0.402   \n",
       "3       {'neg': 0.081, 'neu': 0.704, 'pos': 0.215, 'co...       0.557   \n",
       "4       {'neg': 0.097, 'neu': 0.903, 'pos': 0.0, 'comp...      -0.128   \n",
       "...                                                   ...         ...   \n",
       "159851  {'neg': 0.056, 'neu': 0.792, 'pos': 0.151, 'co...       0.476   \n",
       "159852  {'neg': 0.0, 'neu': 0.796, 'pos': 0.204, 'comp...       0.827   \n",
       "159853  {'neg': 0.0, 'neu': 1.0, 'pos': 0.0, 'compound...       0.000   \n",
       "159854  {'neg': 0.0, 'neu': 0.732, 'pos': 0.268, 'comp...       0.509   \n",
       "159855  {'neg': 0.0, 'neu': 1.0, 'pos': 0.0, 'compound...       0.000   \n",
       "\n",
       "       Polaridad                                 Texto Preprocesado  \\\n",
       "0        Neutral  estrenos mensuales netflix disney prime video ...   \n",
       "1       Positivo  albert alfredo magia echa serie musica literat...   \n",
       "2       Positivo        tratar equipos futbol retransmisiones igual   \n",
       "3       Positivo  bajada precio fibra mejorar calidad sonido ima...   \n",
       "4       Negativo              postes cortando altura km ares corona   \n",
       "...          ...                                                ...   \n",
       "159851  Positivo  clientes sabemos saben cumplen contrato deberi...   \n",
       "159852  Positivo  gustaria saber llevo semana contratando servic...   \n",
       "159853   Neutral        deberias cambiar bandera absurda ahora lobo   \n",
       "159854  Positivo                        falta cambio empresa suerte   \n",
       "159855   Neutral                                            camaras   \n",
       "\n",
       "                                            Raiz Palabras  \n",
       "0            estren mensual netflix disney prim vide blog  \n",
       "1       albert alfred magi echa seri music literatur n...  \n",
       "2                   trat equip futbol retransmision igual  \n",
       "3       baj preci fibr mejor calid son imag canal mejo...  \n",
       "4                           post cort altur km ares coron  \n",
       "...                                                   ...  \n",
       "159851  client sab sab cumpl contrat deberi leer contr...  \n",
       "159852  gustari sab llev seman contrat servici ofert g...  \n",
       "159853                deberi cambi bander absurd ahor lob  \n",
       "159854                            falt cambi empres suert  \n",
       "159855                                                cam  \n",
       "\n",
       "[159856 rows x 10 columns]"
      ]
     },
     "execution_count": 3,
     "metadata": {},
     "output_type": "execute_result"
    }
   ],
   "source": [
    "tweets_df =  pd.read_csv(\"tweets_preproc.csv\")\n",
    "tweets_df = tweets_df.drop('Unnamed: 0', axis=1)\n",
    "tweets_df"
   ]
  },
  {
   "cell_type": "code",
   "execution_count": 4,
   "id": "7b93dca0",
   "metadata": {
    "id": "7b93dca0",
    "outputId": "a129139c-3921-43fa-f6a7-1c9d514181b2"
   },
   "outputs": [
    {
     "data": {
      "text/html": [
       "<div>\n",
       "<style scoped>\n",
       "    .dataframe tbody tr th:only-of-type {\n",
       "        vertical-align: middle;\n",
       "    }\n",
       "\n",
       "    .dataframe tbody tr th {\n",
       "        vertical-align: top;\n",
       "    }\n",
       "\n",
       "    .dataframe thead th {\n",
       "        text-align: right;\n",
       "    }\n",
       "</style>\n",
       "<table border=\"1\" class=\"dataframe\">\n",
       "  <thead>\n",
       "    <tr style=\"text-align: right;\">\n",
       "      <th></th>\n",
       "      <th>text</th>\n",
       "      <th>author</th>\n",
       "      <th>source</th>\n",
       "      <th>timestamp</th>\n",
       "      <th>id</th>\n",
       "      <th>Puntuaciones</th>\n",
       "      <th>Puntuacion</th>\n",
       "      <th>Polaridad</th>\n",
       "      <th>Texto Preprocesado</th>\n",
       "      <th>Raiz Palabras</th>\n",
       "    </tr>\n",
       "  </thead>\n",
       "  <tbody>\n",
       "    <tr>\n",
       "      <th>102556</th>\n",
       "      <td>el procesador es una autentica pasada  mas p...</td>\n",
       "      <td>1060866134</td>\n",
       "      <td>Twitter for Android</td>\n",
       "      <td>2022-02-10 10:23:16</td>\n",
       "      <td>1491719406996660224</td>\n",
       "      <td>{'neg': 0.0, 'neu': 0.625, 'pos': 0.375, 'comp...</td>\n",
       "      <td>0.801</td>\n",
       "      <td>Positivo</td>\n",
       "      <td>procesador autentica pasada mas potente misil ...</td>\n",
       "      <td>proces autent pas mas potent misil core nort</td>\n",
       "    </tr>\n",
       "    <tr>\n",
       "      <th>131761</th>\n",
       "      <td>llamar a mi madre para que vea que he ganado...</td>\n",
       "      <td>1035245724940886016</td>\n",
       "      <td>Twitter for Android</td>\n",
       "      <td>2022-03-04 10:35:11</td>\n",
       "      <td>1499694940066095108</td>\n",
       "      <td>{'neg': 0.0, 'neu': 0.778, 'pos': 0.222, 'comp...</td>\n",
       "      <td>0.611</td>\n",
       "      <td>Positivo</td>\n",
       "      <td>llamar madre vea ganado vida</td>\n",
       "      <td>llam madr vea gan vid</td>\n",
       "    </tr>\n",
       "    <tr>\n",
       "      <th>54744</th>\n",
       "      <td>enviado espero una pronta solucion pues ya ha...</td>\n",
       "      <td>1257459494747070468</td>\n",
       "      <td>Twitter Web App</td>\n",
       "      <td>2022-01-17 13:52:16</td>\n",
       "      <td>1483074698506387461</td>\n",
       "      <td>{'neg': 0.106, 'neu': 0.588, 'pos': 0.306, 'co...</td>\n",
       "      <td>0.527</td>\n",
       "      <td>Positivo</td>\n",
       "      <td>enviado espero pronta solucion pues cobrado ca...</td>\n",
       "      <td>envi esper pront solucion pues cobr canall</td>\n",
       "    </tr>\n",
       "    <tr>\n",
       "      <th>111207</th>\n",
       "      <td>hola se soluciono tras min intentando contact...</td>\n",
       "      <td>1154133146667012096</td>\n",
       "      <td>Twitter for iPhone</td>\n",
       "      <td>2022-04-14 12:34:50</td>\n",
       "      <td>1514582955049504778</td>\n",
       "      <td>{'neg': 0.0, 'neu': 0.925, 'pos': 0.075, 'comp...</td>\n",
       "      <td>0.494</td>\n",
       "      <td>Positivo</td>\n",
       "      <td>hola soluciona tras intentando contactar vida ...</td>\n",
       "      <td>hol solucion tras intent contact vid whatsapp ...</td>\n",
       "    </tr>\n",
       "    <tr>\n",
       "      <th>83246</th>\n",
       "      <td>a mi tambien me pasa en  pero es que van ...</td>\n",
       "      <td>1020284584620187648</td>\n",
       "      <td>Twitter for iPhone</td>\n",
       "      <td>2022-05-03 10:23:37</td>\n",
       "      <td>1521435303503929344</td>\n",
       "      <td>{'neg': 0.0, 'neu': 0.933, 'pos': 0.067, 'comp...</td>\n",
       "      <td>0.438</td>\n",
       "      <td>Positivo</td>\n",
       "      <td>tambien pasa van temporadas decir arco primer ...</td>\n",
       "      <td>tambi pas van tempor dec arco prim torne ir em...</td>\n",
       "    </tr>\n",
       "    <tr>\n",
       "      <th>...</th>\n",
       "      <td>...</td>\n",
       "      <td>...</td>\n",
       "      <td>...</td>\n",
       "      <td>...</td>\n",
       "      <td>...</td>\n",
       "      <td>...</td>\n",
       "      <td>...</td>\n",
       "      <td>...</td>\n",
       "      <td>...</td>\n",
       "      <td>...</td>\n",
       "    </tr>\n",
       "    <tr>\n",
       "      <th>153140</th>\n",
       "      <td>lo peor es que lo sabia me estaba vacilando ...</td>\n",
       "      <td>157954555</td>\n",
       "      <td>Twitter for iPhone</td>\n",
       "      <td>2022-04-09 13:00:44</td>\n",
       "      <td>1512777532340322306</td>\n",
       "      <td>{'neg': 0.471, 'neu': 0.529, 'pos': 0.0, 'comp...</td>\n",
       "      <td>-0.836</td>\n",
       "      <td>Negativo</td>\n",
       "      <td>peor sabia vacilando locos</td>\n",
       "      <td>peor sabi vacil loc</td>\n",
       "    </tr>\n",
       "    <tr>\n",
       "      <th>141179</th>\n",
       "      <td>masmovil estoy cansado de decirle a vuestros c...</td>\n",
       "      <td>137299903</td>\n",
       "      <td>Twitter for iPhone</td>\n",
       "      <td>2022-01-12 15:54:30</td>\n",
       "      <td>1481293519272751107</td>\n",
       "      <td>{'neg': 0.101, 'neu': 0.872, 'pos': 0.026, 'co...</td>\n",
       "      <td>-0.572</td>\n",
       "      <td>Negativo</td>\n",
       "      <td>masmovil cansado decirle comerciales quiero sa...</td>\n",
       "      <td>masmovil cans dec comercial quier sab numer fi...</td>\n",
       "    </tr>\n",
       "    <tr>\n",
       "      <th>43287</th>\n",
       "      <td>terrible partido no vamos a ningun lado...</td>\n",
       "      <td>191793120</td>\n",
       "      <td>Twitter for Android</td>\n",
       "      <td>2022-05-27 20:12:12</td>\n",
       "      <td>1530280731590725632</td>\n",
       "      <td>{'neg': 0.286, 'neu': 0.714, 'pos': 0.0, 'comp...</td>\n",
       "      <td>-0.638</td>\n",
       "      <td>Negativo</td>\n",
       "      <td>terrible partido vamos ninguna lado si</td>\n",
       "      <td>terribl part vam ningun lad si</td>\n",
       "    </tr>\n",
       "    <tr>\n",
       "      <th>114260</th>\n",
       "      <td>buscate un operador decente y legal   es de...</td>\n",
       "      <td>959113286</td>\n",
       "      <td>Twitter for Android</td>\n",
       "      <td>2022-05-05 06:07:35</td>\n",
       "      <td>1522095644260900864</td>\n",
       "      <td>{'neg': 0.038, 'neu': 0.939, 'pos': 0.023, 'co...</td>\n",
       "      <td>-0.248</td>\n",
       "      <td>Negativo</td>\n",
       "      <td>buscase operador decente legal grupo devuelve ...</td>\n",
       "      <td>busc oper decent legal grup devuelv ultim reci...</td>\n",
       "    </tr>\n",
       "    <tr>\n",
       "      <th>124148</th>\n",
       "      <td>no me van los datos moviles del puto</td>\n",
       "      <td>893107113794441216</td>\n",
       "      <td>Twitter for Android</td>\n",
       "      <td>2022-01-20 09:40:28</td>\n",
       "      <td>1484098494457597952</td>\n",
       "      <td>{'neg': 0.209, 'neu': 0.791, 'pos': 0.0, 'comp...</td>\n",
       "      <td>-0.276</td>\n",
       "      <td>Negativo</td>\n",
       "      <td>van datos moviles puto</td>\n",
       "      <td>van dat movil put</td>\n",
       "    </tr>\n",
       "  </tbody>\n",
       "</table>\n",
       "<p>40000 rows × 10 columns</p>\n",
       "</div>"
      ],
      "text/plain": [
       "                                                     text  \\\n",
       "102556    el procesador es una autentica pasada  mas p...   \n",
       "131761    llamar a mi madre para que vea que he ganado...   \n",
       "54744    enviado espero una pronta solucion pues ya ha...   \n",
       "111207   hola se soluciono tras min intentando contact...   \n",
       "83246        a mi tambien me pasa en  pero es que van ...   \n",
       "...                                                   ...   \n",
       "153140    lo peor es que lo sabia me estaba vacilando ...   \n",
       "141179  masmovil estoy cansado de decirle a vuestros c...   \n",
       "43287          terrible partido no vamos a ningun lado...   \n",
       "114260     buscate un operador decente y legal   es de...   \n",
       "124148              no me van los datos moviles del puto    \n",
       "\n",
       "                     author               source            timestamp  \\\n",
       "102556           1060866134  Twitter for Android  2022-02-10 10:23:16   \n",
       "131761  1035245724940886016  Twitter for Android  2022-03-04 10:35:11   \n",
       "54744   1257459494747070468      Twitter Web App  2022-01-17 13:52:16   \n",
       "111207  1154133146667012096   Twitter for iPhone  2022-04-14 12:34:50   \n",
       "83246   1020284584620187648   Twitter for iPhone  2022-05-03 10:23:37   \n",
       "...                     ...                  ...                  ...   \n",
       "153140            157954555   Twitter for iPhone  2022-04-09 13:00:44   \n",
       "141179            137299903   Twitter for iPhone  2022-01-12 15:54:30   \n",
       "43287             191793120  Twitter for Android  2022-05-27 20:12:12   \n",
       "114260            959113286  Twitter for Android  2022-05-05 06:07:35   \n",
       "124148   893107113794441216  Twitter for Android  2022-01-20 09:40:28   \n",
       "\n",
       "                         id  \\\n",
       "102556  1491719406996660224   \n",
       "131761  1499694940066095108   \n",
       "54744   1483074698506387461   \n",
       "111207  1514582955049504778   \n",
       "83246   1521435303503929344   \n",
       "...                     ...   \n",
       "153140  1512777532340322306   \n",
       "141179  1481293519272751107   \n",
       "43287   1530280731590725632   \n",
       "114260  1522095644260900864   \n",
       "124148  1484098494457597952   \n",
       "\n",
       "                                             Puntuaciones  Puntuacion  \\\n",
       "102556  {'neg': 0.0, 'neu': 0.625, 'pos': 0.375, 'comp...       0.801   \n",
       "131761  {'neg': 0.0, 'neu': 0.778, 'pos': 0.222, 'comp...       0.611   \n",
       "54744   {'neg': 0.106, 'neu': 0.588, 'pos': 0.306, 'co...       0.527   \n",
       "111207  {'neg': 0.0, 'neu': 0.925, 'pos': 0.075, 'comp...       0.494   \n",
       "83246   {'neg': 0.0, 'neu': 0.933, 'pos': 0.067, 'comp...       0.438   \n",
       "...                                                   ...         ...   \n",
       "153140  {'neg': 0.471, 'neu': 0.529, 'pos': 0.0, 'comp...      -0.836   \n",
       "141179  {'neg': 0.101, 'neu': 0.872, 'pos': 0.026, 'co...      -0.572   \n",
       "43287   {'neg': 0.286, 'neu': 0.714, 'pos': 0.0, 'comp...      -0.638   \n",
       "114260  {'neg': 0.038, 'neu': 0.939, 'pos': 0.023, 'co...      -0.248   \n",
       "124148  {'neg': 0.209, 'neu': 0.791, 'pos': 0.0, 'comp...      -0.276   \n",
       "\n",
       "       Polaridad                                 Texto Preprocesado  \\\n",
       "102556  Positivo  procesador autentica pasada mas potente misil ...   \n",
       "131761  Positivo                       llamar madre vea ganado vida   \n",
       "54744   Positivo  enviado espero pronta solucion pues cobrado ca...   \n",
       "111207  Positivo  hola soluciona tras intentando contactar vida ...   \n",
       "83246   Positivo  tambien pasa van temporadas decir arco primer ...   \n",
       "...          ...                                                ...   \n",
       "153140  Negativo                         peor sabia vacilando locos   \n",
       "141179  Negativo  masmovil cansado decirle comerciales quiero sa...   \n",
       "43287   Negativo             terrible partido vamos ninguna lado si   \n",
       "114260  Negativo  buscase operador decente legal grupo devuelve ...   \n",
       "124148  Negativo                             van datos moviles puto   \n",
       "\n",
       "                                            Raiz Palabras  \n",
       "102556       proces autent pas mas potent misil core nort  \n",
       "131761                              llam madr vea gan vid  \n",
       "54744          envi esper pront solucion pues cobr canall  \n",
       "111207  hol solucion tras intent contact vid whatsapp ...  \n",
       "83246   tambi pas van tempor dec arco prim torne ir em...  \n",
       "...                                                   ...  \n",
       "153140                                peor sabi vacil loc  \n",
       "141179  masmovil cans dec comercial quier sab numer fi...  \n",
       "43287                      terribl part vam ningun lad si  \n",
       "114260  busc oper decent legal grup devuelv ultim reci...  \n",
       "124148                                  van dat movil put  \n",
       "\n",
       "[40000 rows x 10 columns]"
      ]
     },
     "execution_count": 4,
     "metadata": {},
     "output_type": "execute_result"
    }
   ],
   "source": [
    "tweets_positivo_df = tweets_df[tweets_df['Polaridad'] == \"Positivo\"]\n",
    "tweets_positivo_df = tweets_positivo_df.dropna()\n",
    "tweets_positivo_df = tweets_positivo_df.sample(n = 20000)\n",
    "\n",
    "tweets_negativo_df = tweets_df[tweets_df['Polaridad'] == \"Negativo\"]\n",
    "tweets_negativo_df = tweets_negativo_df.dropna()\n",
    "tweets_negativo_df = tweets_negativo_df.sample(n = 20000)\n",
    "\n",
    "tweets_df = pd.concat([tweets_positivo_df,tweets_negativo_df])\n",
    "tweets_df"
   ]
  },
  {
   "cell_type": "code",
   "execution_count": 5,
   "id": "64750e1a",
   "metadata": {
    "id": "64750e1a",
    "outputId": "b2d5e128-ea62-43ce-8299-0430b4efb298"
   },
   "outputs": [
    {
     "data": {
      "image/png": "[encoded data removed]",
      "text/plain": [
       "<Figure size 432x288 with 1 Axes>"
      ]
     },
     "metadata": {
      "needs_background": "light"
     },
     "output_type": "display_data"
    }
   ],
   "source": [
    "count_class=pd.value_counts(tweets_df[\"Polaridad\"], sort= True)\n",
    "count_class.plot(kind= 'bar', color= [\"blue\", \"orange\"])\n",
    "plt.title('Proportion Target Class')\n",
    "plt.show()"
   ]
  },
  {
   "cell_type": "code",
   "execution_count": 6,
   "id": "94e51870",
   "metadata": {
    "id": "94e51870"
   },
   "outputs": [],
   "source": [
    "tweets_df['Texto Preprocesado'] = tweets_df['Texto Preprocesado'].astype(str)"
   ]
  },
  {
   "cell_type": "code",
   "execution_count": 7,
   "id": "4f4d5598",
   "metadata": {
    "id": "4f4d5598",
    "outputId": "3fa4e32e-59cb-4618-e64c-80ef702ee6bb"
   },
   "outputs": [
    {
     "name": "stdout",
     "output_type": "stream",
     "text": [
      "40000\n",
      "40000\n"
     ]
    }
   ],
   "source": [
    "main_text = tweets_df['Texto Preprocesado']\n",
    "target = tweets_df['Polaridad']\n",
    "\n",
    "print(len(main_text))\n",
    "print(len(target))"
   ]
  },
  {
   "cell_type": "code",
   "execution_count": 8,
   "id": "4ce8b6df",
   "metadata": {
    "id": "4ce8b6df"
   },
   "outputs": [],
   "source": [
    "cv=CountVectorizer()\n",
    "\n",
    "\n",
    "train_data,test_data = train_test_split(tweets_df,train_size=0.8,random_state=0)\n",
    "\n",
    "X_train = cv.fit_transform(train_data['Texto Preprocesado'])\n",
    "y_train = train_data['Polaridad']\n",
    "X_test = cv.transform(test_data['Texto Preprocesado'])\n",
    "y_test = test_data['Polaridad']"
   ]
  },
  {
   "cell_type": "code",
   "execution_count": 9,
   "id": "08fdad42",
   "metadata": {
    "id": "08fdad42",
    "outputId": "ba7a52ff-2e2d-4065-9f3a-09a3e523f06e"
   },
   "outputs": [
    {
     "data": {
      "text/plain": [
       "MultinomialNB()"
      ]
     },
     "execution_count": 9,
     "metadata": {},
     "output_type": "execute_result"
    }
   ],
   "source": [
    "nb = MultinomialNB(alpha=1.0, class_prior=None, fit_prior=True)\n",
    "nb.fit(X_train,y_train)"
   ]
  },
  {
   "cell_type": "code",
   "execution_count": 10,
   "id": "5a48f178",
   "metadata": {
    "id": "5a48f178"
   },
   "outputs": [],
   "source": [
    "nb_predict=nb.predict(X_test)"
   ]
  },
  {
   "cell_type": "code",
   "execution_count": 11,
   "id": "41522b81",
   "metadata": {
    "id": "41522b81",
    "outputId": "9db3e2fa-eaff-4cf3-8560-2973f8f76cb5"
   },
   "outputs": [
    {
     "name": "stdout",
     "output_type": "stream",
     "text": [
      "Accuracy: 0.780125\n"
     ]
    }
   ],
   "source": [
    "nb_report = accuracy_score(y_test,nb_predict)\n",
    "print('Accuracy:',nb_report)"
   ]
  },
  {
   "cell_type": "code",
   "execution_count": 12,
   "id": "ec9bc888",
   "metadata": {
    "id": "ec9bc888",
    "outputId": "f5870a1c-0f7e-48b6-9004-01aee9929947"
   },
   "outputs": [
    {
     "name": "stdout",
     "output_type": "stream",
     "text": [
      "Recall: 0.695054945054945\n"
     ]
    }
   ],
   "source": [
    "nb_report1 = recall_score(y_test,nb_predict,pos_label='Positivo',average='binary')\n",
    "print('Recall:',nb_report1)"
   ]
  },
  {
   "cell_type": "code",
   "execution_count": 13,
   "id": "96796ce1",
   "metadata": {
    "id": "96796ce1",
    "outputId": "341b99f4-3384-4ea0-aa49-1c37cee3e295"
   },
   "outputs": [
    {
     "name": "stdout",
     "output_type": "stream",
     "text": [
      "Precision: 0.8380006022282445\n"
     ]
    }
   ],
   "source": [
    "nb_report2 = precision_score(y_test,nb_predict,pos_label='Positivo',average='binary')\n",
    "print('Precision:',nb_report2)"
   ]
  },
  {
   "cell_type": "code",
   "execution_count": 14,
   "id": "a1e45538",
   "metadata": {
    "id": "a1e45538",
    "outputId": "dd3a67c0-0652-4fa3-ccb9-b2b526991b17"
   },
   "outputs": [
    {
     "data": {
      "text/plain": [
       "<AxesSubplot:title={'center':'ROC Curves'}, xlabel='False Positive Rate', ylabel='True Positive Rate'>"
      ]
     },
     "execution_count": 14,
     "metadata": {},
     "output_type": "execute_result"
    },
    {
     "data": {
      "image/png": "[encoded data removed]",
      "text/plain": [
       "<Figure size 432x288 with 1 Axes>"
      ]
     },
     "metadata": {
      "needs_background": "light"
     },
     "output_type": "display_data"
    }
   ],
   "source": [
    "skplt.metrics.plot_roc(y_test, nb.predict_proba(X_test))"
   ]
  },
  {
   "cell_type": "code",
   "execution_count": null,
   "id": "14d48626",
   "metadata": {
    "id": "14d48626"
   },
   "outputs": [],
   "source": []
  }
 ],
 "metadata": {
  "colab": {
   "provenance": []
  },
  "kernelspec": {
   "display_name": "Python 3 (ipykernel)",
   "language": "python",
   "name": "python3"
  },
  "language_info": {
   "codemirror_mode": {
    "name": "ipython",
    "version": 3
   },
   "file_extension": ".py",
   "mimetype": "text/x-python",
   "name": "python",
   "nbconvert_exporter": "python",
   "pygments_lexer": "ipython3",
   "version": "3.9.7"
  }
 },
 "nbformat": 4,
 "nbformat_minor": 5
}

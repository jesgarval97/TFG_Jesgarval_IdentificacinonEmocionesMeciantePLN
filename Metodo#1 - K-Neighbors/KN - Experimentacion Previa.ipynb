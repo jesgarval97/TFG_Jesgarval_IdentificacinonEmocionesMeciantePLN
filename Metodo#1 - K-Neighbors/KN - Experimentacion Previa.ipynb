{
 "cells": [
  {
   "cell_type": "code",
   "execution_count": 1,
   "id": "6a578f26",
   "metadata": {
    "id": "6a578f26"
   },
   "outputs": [],
   "source": [
    "import pandas as pd\n",
    "import numpy as np\n",
    "import matplotlib.pyplot as plt\n",
    "import seaborn as sns\n",
    "import scikitplot as skplt\n",
    "from tqdm import tqdm\n",
    "from gensim.models.doc2vec import TaggedDocument\n",
    "from sklearn.model_selection import train_test_split\n",
    "from sklearn.metrics import classification_report,confusion_matrix,accuracy_score,recall_score,precision_score\n",
    "from sklearn.neighbors import KNeighborsClassifier\n",
    "pd.set_option('display.float_format', lambda x: '%.3f' % x)"
   ]
  },
  {
   "cell_type": "code",
   "execution_count": 2,
   "id": "194fb3aa",
   "metadata": {
    "executionInfo": {
     "elapsed": 34,
     "status": "aborted",
     "timestamp": 1681239214348,
     "user": {
      "displayName": "Francisco Gil Sánchez-Carrasco",
      "userId": "17325861859882667977"
     },
     "user_tz": -60
    },
    "id": "194fb3aa",
    "outputId": "e473c35c-fbb1-4c3e-c81e-29bdc96d329c"
   },
   "outputs": [
    {
     "data": {
      "text/html": [
       "<div>\n",
       "<style scoped>\n",
       "    .dataframe tbody tr th:only-of-type {\n",
       "        vertical-align: middle;\n",
       "    }\n",
       "\n",
       "    .dataframe tbody tr th {\n",
       "        vertical-align: top;\n",
       "    }\n",
       "\n",
       "    .dataframe thead th {\n",
       "        text-align: right;\n",
       "    }\n",
       "</style>\n",
       "<table border=\"1\" class=\"dataframe\">\n",
       "  <thead>\n",
       "    <tr style=\"text-align: right;\">\n",
       "      <th></th>\n",
       "      <th>text</th>\n",
       "      <th>author</th>\n",
       "      <th>source</th>\n",
       "      <th>timestamp</th>\n",
       "      <th>id</th>\n",
       "      <th>Puntuaciones</th>\n",
       "      <th>Puntuacion</th>\n",
       "      <th>Polaridad</th>\n",
       "      <th>Texto Preprocesado</th>\n",
       "      <th>Raiz Palabras</th>\n",
       "    </tr>\n",
       "  </thead>\n",
       "  <tbody>\n",
       "    <tr>\n",
       "      <th>0</th>\n",
       "      <td>estrenos mensuales en  netflix disney y prime ...</td>\n",
       "      <td>159917675</td>\n",
       "      <td>Twitter for iPhone</td>\n",
       "      <td>2022-01-01 01:22:09</td>\n",
       "      <td>1477087717167087621</td>\n",
       "      <td>{'neg': 0.0, 'neu': 1.0, 'pos': 0.0, 'compound...</td>\n",
       "      <td>0.000</td>\n",
       "      <td>Neutral</td>\n",
       "      <td>estrenos mensuales netflix disney prime video ...</td>\n",
       "      <td>estren mensual netflix disney prim vide blog</td>\n",
       "    </tr>\n",
       "    <tr>\n",
       "      <th>1</th>\n",
       "      <td>albert alfred y la magia echa serie music...</td>\n",
       "      <td>385918940</td>\n",
       "      <td>Twitter for Android</td>\n",
       "      <td>2022-01-01 02:27:16</td>\n",
       "      <td>1477104103926996994</td>\n",
       "      <td>{'neg': 0.0, 'neu': 0.945, 'pos': 0.055, 'comp...</td>\n",
       "      <td>0.421</td>\n",
       "      <td>Positivo</td>\n",
       "      <td>albert alfredo magia echa serie musica literat...</td>\n",
       "      <td>albert alfred magi echa seri music literatur n...</td>\n",
       "    </tr>\n",
       "    <tr>\n",
       "      <th>2</th>\n",
       "      <td>tratar a todos los equipos de futbol en las r...</td>\n",
       "      <td>238286158</td>\n",
       "      <td>Talon Android</td>\n",
       "      <td>2022-01-01 08:20:30</td>\n",
       "      <td>1477192997016113153</td>\n",
       "      <td>{'neg': 0.0, 'neu': 0.748, 'pos': 0.252, 'comp...</td>\n",
       "      <td>0.402</td>\n",
       "      <td>Positivo</td>\n",
       "      <td>tratar equipos futbol retransmisiones igual</td>\n",
       "      <td>trat equip futbol retransmision igual</td>\n",
       "    </tr>\n",
       "    <tr>\n",
       "      <th>3</th>\n",
       "      <td>bajada de precio de la fibra mejorar la calid...</td>\n",
       "      <td>82388144</td>\n",
       "      <td>Twitter for Android</td>\n",
       "      <td>2022-01-01 08:51:51</td>\n",
       "      <td>1477200887663804421</td>\n",
       "      <td>{'neg': 0.081, 'neu': 0.704, 'pos': 0.215, 'co...</td>\n",
       "      <td>0.557</td>\n",
       "      <td>Positivo</td>\n",
       "      <td>bajada precio fibra mejorar calidad sonido ima...</td>\n",
       "      <td>baj preci fibr mejor calid son imag canal mejo...</td>\n",
       "    </tr>\n",
       "    <tr>\n",
       "      <th>4</th>\n",
       "      <td>postes de  cortando la dp a la altura del km e...</td>\n",
       "      <td>196401713</td>\n",
       "      <td>Twitter for iPhone</td>\n",
       "      <td>2022-01-01 09:22:55</td>\n",
       "      <td>1477208706182000640</td>\n",
       "      <td>{'neg': 0.097, 'neu': 0.903, 'pos': 0.0, 'comp...</td>\n",
       "      <td>-0.128</td>\n",
       "      <td>Negativo</td>\n",
       "      <td>postes cortando altura km ares corona</td>\n",
       "      <td>post cort altur km ares coron</td>\n",
       "    </tr>\n",
       "    <tr>\n",
       "      <th>...</th>\n",
       "      <td>...</td>\n",
       "      <td>...</td>\n",
       "      <td>...</td>\n",
       "      <td>...</td>\n",
       "      <td>...</td>\n",
       "      <td>...</td>\n",
       "      <td>...</td>\n",
       "      <td>...</td>\n",
       "      <td>...</td>\n",
       "      <td>...</td>\n",
       "    </tr>\n",
       "    <tr>\n",
       "      <th>159851</th>\n",
       "      <td>los clientes ya sabemos eso los que no se sab...</td>\n",
       "      <td>1227852829257326592</td>\n",
       "      <td>Twitter Web App</td>\n",
       "      <td>2022-06-30 20:26:43</td>\n",
       "      <td>1542605573895725056</td>\n",
       "      <td>{'neg': 0.056, 'neu': 0.792, 'pos': 0.151, 'co...</td>\n",
       "      <td>0.476</td>\n",
       "      <td>Positivo</td>\n",
       "      <td>clientes sabemos saben cumplen contrato deberi...</td>\n",
       "      <td>client sab sab cumpl contrat deberi leer contr...</td>\n",
       "    </tr>\n",
       "    <tr>\n",
       "      <th>159852</th>\n",
       "      <td>lo que me gustaria saber es por que llevo una...</td>\n",
       "      <td>1168354052</td>\n",
       "      <td>Twitter for Android</td>\n",
       "      <td>2022-06-30 21:07:14</td>\n",
       "      <td>1542615768289902592</td>\n",
       "      <td>{'neg': 0.0, 'neu': 0.796, 'pos': 0.204, 'comp...</td>\n",
       "      <td>0.827</td>\n",
       "      <td>Positivo</td>\n",
       "      <td>gustaria saber llevo semana contratando servic...</td>\n",
       "      <td>gustari sab llev seman contrat servici ofert g...</td>\n",
       "    </tr>\n",
       "    <tr>\n",
       "      <th>159853</th>\n",
       "      <td>deberias cambiar esa bandera absurda o ahora ...</td>\n",
       "      <td>1397178749985202176</td>\n",
       "      <td>Twitter for Android</td>\n",
       "      <td>2022-06-30 21:55:32</td>\n",
       "      <td>1542627925358481409</td>\n",
       "      <td>{'neg': 0.0, 'neu': 1.0, 'pos': 0.0, 'compound...</td>\n",
       "      <td>0.000</td>\n",
       "      <td>Neutral</td>\n",
       "      <td>deberias cambiar bandera absurda ahora lobo</td>\n",
       "      <td>deberi cambi bander absurd ahor lob</td>\n",
       "    </tr>\n",
       "    <tr>\n",
       "      <th>159854</th>\n",
       "      <td>ya me falta poco y cambio de empresa suerte</td>\n",
       "      <td>452596569</td>\n",
       "      <td>Twitter for Android</td>\n",
       "      <td>2022-06-30 22:17:56</td>\n",
       "      <td>1542633561169305602</td>\n",
       "      <td>{'neg': 0.0, 'neu': 0.732, 'pos': 0.268, 'comp...</td>\n",
       "      <td>0.509</td>\n",
       "      <td>Positivo</td>\n",
       "      <td>falta cambio empresa suerte</td>\n",
       "      <td>falt cambi empres suert</td>\n",
       "    </tr>\n",
       "    <tr>\n",
       "      <th>159855</th>\n",
       "      <td>por sus camaras</td>\n",
       "      <td>1537326778787807232</td>\n",
       "      <td>Twitter for Android</td>\n",
       "      <td>2022-06-30 23:39:56</td>\n",
       "      <td>1542654199678255110</td>\n",
       "      <td>{'neg': 0.0, 'neu': 1.0, 'pos': 0.0, 'compound...</td>\n",
       "      <td>0.000</td>\n",
       "      <td>Neutral</td>\n",
       "      <td>camaras</td>\n",
       "      <td>cam</td>\n",
       "    </tr>\n",
       "  </tbody>\n",
       "</table>\n",
       "<p>159856 rows × 10 columns</p>\n",
       "</div>"
      ],
      "text/plain": [
       "                                                     text  \\\n",
       "0       estrenos mensuales en  netflix disney y prime ...   \n",
       "1            albert alfred y la magia echa serie music...   \n",
       "2        tratar a todos los equipos de futbol en las r...   \n",
       "3        bajada de precio de la fibra mejorar la calid...   \n",
       "4       postes de  cortando la dp a la altura del km e...   \n",
       "...                                                   ...   \n",
       "159851   los clientes ya sabemos eso los que no se sab...   \n",
       "159852   lo que me gustaria saber es por que llevo una...   \n",
       "159853   deberias cambiar esa bandera absurda o ahora ...   \n",
       "159854        ya me falta poco y cambio de empresa suerte   \n",
       "159855                                    por sus camaras   \n",
       "\n",
       "                     author               source            timestamp  \\\n",
       "0                 159917675   Twitter for iPhone  2022-01-01 01:22:09   \n",
       "1                 385918940  Twitter for Android  2022-01-01 02:27:16   \n",
       "2                 238286158        Talon Android  2022-01-01 08:20:30   \n",
       "3                  82388144  Twitter for Android  2022-01-01 08:51:51   \n",
       "4                 196401713   Twitter for iPhone  2022-01-01 09:22:55   \n",
       "...                     ...                  ...                  ...   \n",
       "159851  1227852829257326592      Twitter Web App  2022-06-30 20:26:43   \n",
       "159852           1168354052  Twitter for Android  2022-06-30 21:07:14   \n",
       "159853  1397178749985202176  Twitter for Android  2022-06-30 21:55:32   \n",
       "159854            452596569  Twitter for Android  2022-06-30 22:17:56   \n",
       "159855  1537326778787807232  Twitter for Android  2022-06-30 23:39:56   \n",
       "\n",
       "                         id  \\\n",
       "0       1477087717167087621   \n",
       "1       1477104103926996994   \n",
       "2       1477192997016113153   \n",
       "3       1477200887663804421   \n",
       "4       1477208706182000640   \n",
       "...                     ...   \n",
       "159851  1542605573895725056   \n",
       "159852  1542615768289902592   \n",
       "159853  1542627925358481409   \n",
       "159854  1542633561169305602   \n",
       "159855  1542654199678255110   \n",
       "\n",
       "                                             Puntuaciones  Puntuacion  \\\n",
       "0       {'neg': 0.0, 'neu': 1.0, 'pos': 0.0, 'compound...       0.000   \n",
       "1       {'neg': 0.0, 'neu': 0.945, 'pos': 0.055, 'comp...       0.421   \n",
       "2       {'neg': 0.0, 'neu': 0.748, 'pos': 0.252, 'comp...       0.402   \n",
       "3       {'neg': 0.081, 'neu': 0.704, 'pos': 0.215, 'co...       0.557   \n",
       "4       {'neg': 0.097, 'neu': 0.903, 'pos': 0.0, 'comp...      -0.128   \n",
       "...                                                   ...         ...   \n",
       "159851  {'neg': 0.056, 'neu': 0.792, 'pos': 0.151, 'co...       0.476   \n",
       "159852  {'neg': 0.0, 'neu': 0.796, 'pos': 0.204, 'comp...       0.827   \n",
       "159853  {'neg': 0.0, 'neu': 1.0, 'pos': 0.0, 'compound...       0.000   \n",
       "159854  {'neg': 0.0, 'neu': 0.732, 'pos': 0.268, 'comp...       0.509   \n",
       "159855  {'neg': 0.0, 'neu': 1.0, 'pos': 0.0, 'compound...       0.000   \n",
       "\n",
       "       Polaridad                                 Texto Preprocesado  \\\n",
       "0        Neutral  estrenos mensuales netflix disney prime video ...   \n",
       "1       Positivo  albert alfredo magia echa serie musica literat...   \n",
       "2       Positivo        tratar equipos futbol retransmisiones igual   \n",
       "3       Positivo  bajada precio fibra mejorar calidad sonido ima...   \n",
       "4       Negativo              postes cortando altura km ares corona   \n",
       "...          ...                                                ...   \n",
       "159851  Positivo  clientes sabemos saben cumplen contrato deberi...   \n",
       "159852  Positivo  gustaria saber llevo semana contratando servic...   \n",
       "159853   Neutral        deberias cambiar bandera absurda ahora lobo   \n",
       "159854  Positivo                        falta cambio empresa suerte   \n",
       "159855   Neutral                                            camaras   \n",
       "\n",
       "                                            Raiz Palabras  \n",
       "0            estren mensual netflix disney prim vide blog  \n",
       "1       albert alfred magi echa seri music literatur n...  \n",
       "2                   trat equip futbol retransmision igual  \n",
       "3       baj preci fibr mejor calid son imag canal mejo...  \n",
       "4                           post cort altur km ares coron  \n",
       "...                                                   ...  \n",
       "159851  client sab sab cumpl contrat deberi leer contr...  \n",
       "159852  gustari sab llev seman contrat servici ofert g...  \n",
       "159853                deberi cambi bander absurd ahor lob  \n",
       "159854                            falt cambi empres suert  \n",
       "159855                                                cam  \n",
       "\n",
       "[159856 rows x 10 columns]"
      ]
     },
     "execution_count": 2,
     "metadata": {},
     "output_type": "execute_result"
    }
   ],
   "source": [
    "tweets_df =  pd.read_csv(\"tweets_preproc.csv\")\n",
    "tweets_df = tweets_df.drop('Unnamed: 0', axis=1)\n",
    "tweets_df"
   ]
  },
  {
   "cell_type": "code",
   "execution_count": 3,
   "id": "08ff0b28",
   "metadata": {
    "executionInfo": {
     "elapsed": 34,
     "status": "aborted",
     "timestamp": 1681239214348,
     "user": {
      "displayName": "Francisco Gil Sánchez-Carrasco",
      "userId": "17325861859882667977"
     },
     "user_tz": -60
    },
    "id": "08ff0b28",
    "outputId": "582f31ee-1e85-4754-cb47-d607a742a7ec"
   },
   "outputs": [
    {
     "data": {
      "text/html": [
       "<div>\n",
       "<style scoped>\n",
       "    .dataframe tbody tr th:only-of-type {\n",
       "        vertical-align: middle;\n",
       "    }\n",
       "\n",
       "    .dataframe tbody tr th {\n",
       "        vertical-align: top;\n",
       "    }\n",
       "\n",
       "    .dataframe thead th {\n",
       "        text-align: right;\n",
       "    }\n",
       "</style>\n",
       "<table border=\"1\" class=\"dataframe\">\n",
       "  <thead>\n",
       "    <tr style=\"text-align: right;\">\n",
       "      <th></th>\n",
       "      <th>text</th>\n",
       "      <th>author</th>\n",
       "      <th>source</th>\n",
       "      <th>timestamp</th>\n",
       "      <th>id</th>\n",
       "      <th>Puntuaciones</th>\n",
       "      <th>Puntuacion</th>\n",
       "      <th>Polaridad</th>\n",
       "      <th>Texto Preprocesado</th>\n",
       "      <th>Raiz Palabras</th>\n",
       "    </tr>\n",
       "  </thead>\n",
       "  <tbody>\n",
       "    <tr>\n",
       "      <th>85363</th>\n",
       "      <td>hoy gracias a de  participo en el sorteo de un...</td>\n",
       "      <td>251622598</td>\n",
       "      <td>Twitter for Android</td>\n",
       "      <td>2022-05-11 13:03:52</td>\n",
       "      <td>1524374732816236545</td>\n",
       "      <td>{'neg': 0.0, 'neu': 0.936, 'pos': 0.064, 'comp...</td>\n",
       "      <td>0.493</td>\n",
       "      <td>Positivo</td>\n",
       "      <td>hoy gracias participo sorteo viajes personas s...</td>\n",
       "      <td>hoy graci particip sorte viaj person san sebas...</td>\n",
       "    </tr>\n",
       "    <tr>\n",
       "      <th>70891</th>\n",
       "      <td>estoy a la espera de una respuesta  gracias</td>\n",
       "      <td>1501136594744578048</td>\n",
       "      <td>Twitter Web App</td>\n",
       "      <td>2022-03-09 17:53:51</td>\n",
       "      <td>1501617275106963461</td>\n",
       "      <td>{'neg': 0.0, 'neu': 0.707, 'pos': 0.293, 'comp...</td>\n",
       "      <td>0.440</td>\n",
       "      <td>Positivo</td>\n",
       "      <td>espera respuesta gracias</td>\n",
       "      <td>esper respuest graci</td>\n",
       "    </tr>\n",
       "    <tr>\n",
       "      <th>64526</th>\n",
       "      <td>lo mejor que te puede pasar esta semana ganar ...</td>\n",
       "      <td>941221454</td>\n",
       "      <td>Twitter for iPhone</td>\n",
       "      <td>2022-02-16 09:24:44</td>\n",
       "      <td>1493879004700581889</td>\n",
       "      <td>{'neg': 0.033, 'neu': 0.693, 'pos': 0.275, 'co...</td>\n",
       "      <td>0.917</td>\n",
       "      <td>Positivo</td>\n",
       "      <td>mejor puede pasar semana ganar auriculares ina...</td>\n",
       "      <td>mejor pued pas seman gan auricular inalambr fr...</td>\n",
       "    </tr>\n",
       "    <tr>\n",
       "      <th>4459</th>\n",
       "      <td>creo que lo que les pasa a estas grandes emp...</td>\n",
       "      <td>227802437</td>\n",
       "      <td>Twitter for Android</td>\n",
       "      <td>2022-01-25 20:20:12</td>\n",
       "      <td>1486071427711348745</td>\n",
       "      <td>{'neg': 0.0, 'neu': 0.95, 'pos': 0.05, 'compou...</td>\n",
       "      <td>0.153</td>\n",
       "      <td>Positivo</td>\n",
       "      <td>creo pasa grandes empresas capacidad atender g...</td>\n",
       "      <td>cre pas grand empres capac atend gran cantid c...</td>\n",
       "    </tr>\n",
       "    <tr>\n",
       "      <th>109123</th>\n",
       "      <td>ojala</td>\n",
       "      <td>1498011678486716420</td>\n",
       "      <td>Twitter for Android</td>\n",
       "      <td>2022-03-24 20:33:37</td>\n",
       "      <td>1507093300314001411</td>\n",
       "      <td>{'neg': 0.0, 'neu': 0.722, 'pos': 0.278, 'comp...</td>\n",
       "      <td>0.402</td>\n",
       "      <td>Positivo</td>\n",
       "      <td>ojala</td>\n",
       "      <td>ojal</td>\n",
       "    </tr>\n",
       "    <tr>\n",
       "      <th>...</th>\n",
       "      <td>...</td>\n",
       "      <td>...</td>\n",
       "      <td>...</td>\n",
       "      <td>...</td>\n",
       "      <td>...</td>\n",
       "      <td>...</td>\n",
       "      <td>...</td>\n",
       "      <td>...</td>\n",
       "      <td>...</td>\n",
       "      <td>...</td>\n",
       "    </tr>\n",
       "    <tr>\n",
       "      <th>104581</th>\n",
       "      <td>senores de   es increible todavia me siguen co...</td>\n",
       "      <td>197568493</td>\n",
       "      <td>Twitter Web App</td>\n",
       "      <td>2022-02-16 12:47:24</td>\n",
       "      <td>1493930010243215364</td>\n",
       "      <td>{'neg': 0.247, 'neu': 0.663, 'pos': 0.091, 'co...</td>\n",
       "      <td>-0.856</td>\n",
       "      <td>Negativo</td>\n",
       "      <td>senores increible todavia siguen cobrando habe...</td>\n",
       "      <td>senor increibl todavi sig cobr hab tramit baj ...</td>\n",
       "    </tr>\n",
       "    <tr>\n",
       "      <th>55347</th>\n",
       "      <td>suerte necesito yo  cuando me vais a devolve...</td>\n",
       "      <td>429010828</td>\n",
       "      <td>Twitter for iPhone</td>\n",
       "      <td>2022-01-18 12:42:06</td>\n",
       "      <td>1483419426590445568</td>\n",
       "      <td>{'neg': 0.119, 'neu': 0.881, 'pos': 0.0, 'comp...</td>\n",
       "      <td>-0.402</td>\n",
       "      <td>Negativo</td>\n",
       "      <td>suerte necesito vais devolver dinero problemas</td>\n",
       "      <td>suert necesit vais devolv diner problem</td>\n",
       "    </tr>\n",
       "    <tr>\n",
       "      <th>275</th>\n",
       "      <td>tampoco es asi y trabajo en la competencia</td>\n",
       "      <td>242482984</td>\n",
       "      <td>Twitter for iPhone</td>\n",
       "      <td>2022-01-03 20:35:03</td>\n",
       "      <td>1478102628626223106</td>\n",
       "      <td>{'neg': 0.14, 'neu': 0.86, 'pos': 0.0, 'compou...</td>\n",
       "      <td>-0.276</td>\n",
       "      <td>Negativo</td>\n",
       "      <td>tampoco si trabajo competencia</td>\n",
       "      <td>tampoc si trabaj competent</td>\n",
       "    </tr>\n",
       "    <tr>\n",
       "      <th>133745</th>\n",
       "      <td>servicio de atencion a empresas penoso cada a...</td>\n",
       "      <td>393336713</td>\n",
       "      <td>Twitter for iPad</td>\n",
       "      <td>2022-03-16 21:16:40</td>\n",
       "      <td>1504205027631673355</td>\n",
       "      <td>{'neg': 0.217, 'neu': 0.783, 'pos': 0.0, 'comp...</td>\n",
       "      <td>-0.892</td>\n",
       "      <td>Negativo</td>\n",
       "      <td>servicio atencion empresas penoso cada agente ...</td>\n",
       "      <td>servici atencion empres penos cad agent dic co...</td>\n",
       "    </tr>\n",
       "    <tr>\n",
       "      <th>90635</th>\n",
       "      <td>hacedme caso el mes pasado me cobrasteis 64 y...</td>\n",
       "      <td>1914589926</td>\n",
       "      <td>Twitter for Android</td>\n",
       "      <td>2022-05-26 19:56:33</td>\n",
       "      <td>1529914407895060491</td>\n",
       "      <td>{'neg': 0.116, 'neu': 0.833, 'pos': 0.051, 'co...</td>\n",
       "      <td>-0.321</td>\n",
       "      <td>Negativo</td>\n",
       "      <td>hacedme caso mes pasado cobrasteis mes pagado ...</td>\n",
       "      <td>hacedm cas mes pas cobr mes pag solucion probl...</td>\n",
       "    </tr>\n",
       "  </tbody>\n",
       "</table>\n",
       "<p>40000 rows × 10 columns</p>\n",
       "</div>"
      ],
      "text/plain": [
       "                                                     text  \\\n",
       "85363   hoy gracias a de  participo en el sorteo de un...   \n",
       "70891         estoy a la espera de una respuesta  gracias   \n",
       "64526   lo mejor que te puede pasar esta semana ganar ...   \n",
       "4459      creo que lo que les pasa a estas grandes emp...   \n",
       "109123                                             ojala    \n",
       "...                                                   ...   \n",
       "104581  senores de   es increible todavia me siguen co...   \n",
       "55347     suerte necesito yo  cuando me vais a devolve...   \n",
       "275            tampoco es asi y trabajo en la competencia   \n",
       "133745   servicio de atencion a empresas penoso cada a...   \n",
       "90635    hacedme caso el mes pasado me cobrasteis 64 y...   \n",
       "\n",
       "                     author               source            timestamp  \\\n",
       "85363             251622598  Twitter for Android  2022-05-11 13:03:52   \n",
       "70891   1501136594744578048      Twitter Web App  2022-03-09 17:53:51   \n",
       "64526             941221454   Twitter for iPhone  2022-02-16 09:24:44   \n",
       "4459              227802437  Twitter for Android  2022-01-25 20:20:12   \n",
       "109123  1498011678486716420  Twitter for Android  2022-03-24 20:33:37   \n",
       "...                     ...                  ...                  ...   \n",
       "104581            197568493      Twitter Web App  2022-02-16 12:47:24   \n",
       "55347             429010828   Twitter for iPhone  2022-01-18 12:42:06   \n",
       "275               242482984   Twitter for iPhone  2022-01-03 20:35:03   \n",
       "133745            393336713     Twitter for iPad  2022-03-16 21:16:40   \n",
       "90635            1914589926  Twitter for Android  2022-05-26 19:56:33   \n",
       "\n",
       "                         id  \\\n",
       "85363   1524374732816236545   \n",
       "70891   1501617275106963461   \n",
       "64526   1493879004700581889   \n",
       "4459    1486071427711348745   \n",
       "109123  1507093300314001411   \n",
       "...                     ...   \n",
       "104581  1493930010243215364   \n",
       "55347   1483419426590445568   \n",
       "275     1478102628626223106   \n",
       "133745  1504205027631673355   \n",
       "90635   1529914407895060491   \n",
       "\n",
       "                                             Puntuaciones  Puntuacion  \\\n",
       "85363   {'neg': 0.0, 'neu': 0.936, 'pos': 0.064, 'comp...       0.493   \n",
       "70891   {'neg': 0.0, 'neu': 0.707, 'pos': 0.293, 'comp...       0.440   \n",
       "64526   {'neg': 0.033, 'neu': 0.693, 'pos': 0.275, 'co...       0.917   \n",
       "4459    {'neg': 0.0, 'neu': 0.95, 'pos': 0.05, 'compou...       0.153   \n",
       "109123  {'neg': 0.0, 'neu': 0.722, 'pos': 0.278, 'comp...       0.402   \n",
       "...                                                   ...         ...   \n",
       "104581  {'neg': 0.247, 'neu': 0.663, 'pos': 0.091, 'co...      -0.856   \n",
       "55347   {'neg': 0.119, 'neu': 0.881, 'pos': 0.0, 'comp...      -0.402   \n",
       "275     {'neg': 0.14, 'neu': 0.86, 'pos': 0.0, 'compou...      -0.276   \n",
       "133745  {'neg': 0.217, 'neu': 0.783, 'pos': 0.0, 'comp...      -0.892   \n",
       "90635   {'neg': 0.116, 'neu': 0.833, 'pos': 0.051, 'co...      -0.321   \n",
       "\n",
       "       Polaridad                                 Texto Preprocesado  \\\n",
       "85363   Positivo  hoy gracias participo sorteo viajes personas s...   \n",
       "70891   Positivo                           espera respuesta gracias   \n",
       "64526   Positivo  mejor puede pasar semana ganar auriculares ina...   \n",
       "4459    Positivo  creo pasa grandes empresas capacidad atender g...   \n",
       "109123  Positivo                                              ojala   \n",
       "...          ...                                                ...   \n",
       "104581  Negativo  senores increible todavia siguen cobrando habe...   \n",
       "55347   Negativo     suerte necesito vais devolver dinero problemas   \n",
       "275     Negativo                     tampoco si trabajo competencia   \n",
       "133745  Negativo  servicio atencion empresas penoso cada agente ...   \n",
       "90635   Negativo  hacedme caso mes pasado cobrasteis mes pagado ...   \n",
       "\n",
       "                                            Raiz Palabras  \n",
       "85363   hoy graci particip sorte viaj person san sebas...  \n",
       "70891                                esper respuest graci  \n",
       "64526   mejor pued pas seman gan auricular inalambr fr...  \n",
       "4459    cre pas grand empres capac atend gran cantid c...  \n",
       "109123                                               ojal  \n",
       "...                                                   ...  \n",
       "104581  senor increibl todavi sig cobr hab tramit baj ...  \n",
       "55347             suert necesit vais devolv diner problem  \n",
       "275                            tampoc si trabaj competent  \n",
       "133745  servici atencion empres penos cad agent dic co...  \n",
       "90635   hacedm cas mes pas cobr mes pag solucion probl...  \n",
       "\n",
       "[40000 rows x 10 columns]"
      ]
     },
     "execution_count": 3,
     "metadata": {},
     "output_type": "execute_result"
    }
   ],
   "source": [
    "tweets_positivo_df = tweets_df[tweets_df['Polaridad'] == \"Positivo\"]\n",
    "tweets_positivo_df = tweets_positivo_df.dropna()\n",
    "tweets_positivo_df = tweets_positivo_df.sample(n = 20000)\n",
    "\n",
    "tweets_negativo_df = tweets_df[tweets_df['Polaridad'] == \"Negativo\"]\n",
    "tweets_negativo_df = tweets_negativo_df.dropna()\n",
    "tweets_negativo_df = tweets_negativo_df.sample(n = 20000)\n",
    "\n",
    "tweets_df = pd.concat([tweets_positivo_df,tweets_negativo_df])\n",
    "tweets_df"
   ]
  },
  {
   "cell_type": "code",
   "execution_count": 4,
   "id": "b7468768",
   "metadata": {
    "executionInfo": {
     "elapsed": 35,
     "status": "aborted",
     "timestamp": 1681239214349,
     "user": {
      "displayName": "Francisco Gil Sánchez-Carrasco",
      "userId": "17325861859882667977"
     },
     "user_tz": -60
    },
    "id": "b7468768",
    "outputId": "306a4804-7fad-46c2-de18-586af721535c"
   },
   "outputs": [
    {
     "data": {
      "image/png": "[encoded data removed]",
      "text/plain": [
       "<Figure size 432x288 with 1 Axes>"
      ]
     },
     "metadata": {
      "needs_background": "light"
     },
     "output_type": "display_data"
    }
   ],
   "source": [
    "count_class=pd.value_counts(tweets_df[\"Polaridad\"], sort= True)\n",
    "count_class.plot(kind= 'bar', color= [\"blue\", \"orange\"])\n",
    "plt.title('Proportion Target Class')\n",
    "plt.show()"
   ]
  },
  {
   "cell_type": "code",
   "execution_count": 5,
   "id": "6643fd1d",
   "metadata": {
    "id": "6643fd1d"
   },
   "outputs": [],
   "source": [
    "tweets_df['Texto Preprocesado'] = tweets_df['Texto Preprocesado'].astype(str)"
   ]
  },
  {
   "cell_type": "code",
   "execution_count": 6,
   "id": "6b1c314e",
   "metadata": {
    "id": "6b1c314e"
   },
   "outputs": [],
   "source": [
    "main_text = tweets_df['Texto Preprocesado']\n",
    "target = tweets_df['Polaridad']"
   ]
  },
  {
   "cell_type": "code",
   "execution_count": 7,
   "id": "14850340",
   "metadata": {
    "executionInfo": {
     "elapsed": 36,
     "status": "aborted",
     "timestamp": 1681239214351,
     "user": {
      "displayName": "Francisco Gil Sánchez-Carrasco",
      "userId": "17325861859882667977"
     },
     "user_tz": -60
    },
    "id": "14850340",
    "outputId": "3e7501ed-542a-405a-be43-6961a1e35268"
   },
   "outputs": [
    {
     "data": {
      "text/plain": [
       "array(['Negativo', 'Positivo'], dtype=object)"
      ]
     },
     "execution_count": 7,
     "metadata": {},
     "output_type": "execute_result"
    }
   ],
   "source": [
    "n_classes = np.unique(target)\n",
    "n_classes"
   ]
  },
  {
   "cell_type": "code",
   "execution_count": 8,
   "id": "138c323d",
   "metadata": {
    "id": "138c323d"
   },
   "outputs": [],
   "source": [
    "def add_label(tweet):\n",
    "    output = []\n",
    "    for i, s in zip(tweet.index, tweet):\n",
    "        output.append(TaggedDocument(s, [\"tweet_\" + str(i)]))\n",
    "    return output"
   ]
  },
  {
   "cell_type": "code",
   "execution_count": 9,
   "id": "afd69bc1",
   "metadata": {
    "id": "afd69bc1"
   },
   "outputs": [],
   "source": [
    "labeled_tweets = add_label(main_text)"
   ]
  },
  {
   "cell_type": "code",
   "execution_count": 10,
   "id": "2f9fedc4",
   "metadata": {
    "executionInfo": {
     "elapsed": 36,
     "status": "aborted",
     "timestamp": 1681239214352,
     "user": {
      "displayName": "Francisco Gil Sánchez-Carrasco",
      "userId": "17325861859882667977"
     },
     "user_tz": -60
    },
    "id": "2f9fedc4",
    "outputId": "a7f2645a-ce24-4989-9418-738ddb28f645"
   },
   "outputs": [
    {
     "name": "stderr",
     "output_type": "stream",
     "text": [
      "100%|██████████| 40000/40000 [00:00<00:00, 2667114.33it/s]\n",
      "C:\\Users\\curri\\AppData\\Local\\Temp/ipykernel_1560/3853302831.py:10: DeprecationWarning: Call to deprecated `docvecs` (The `docvecs` property has been renamed `dv`.).\n",
      "  docvec_arrays[i,:] = d2v_model.docvecs[i].reshape((1,100))\n"
     ]
    }
   ],
   "source": [
    "#Necesitamos vectorizar el conjunto de tweets utilizando Doc2Vec\n",
    "from gensim.models import Doc2Vec\n",
    "\n",
    "d2v_model = Doc2Vec(vector_size=100, min_count=5, epochs=10)\n",
    "d2v_model.build_vocab([i for i in tqdm(labeled_tweets)])\n",
    "d2v_model.train(labeled_tweets, total_examples=len(tweets_df['Texto Preprocesado']),epochs=10)\n",
    "# Crea los vectores de tweets\n",
    "docvec_arrays = np.zeros((len(tweets_df['Texto Preprocesado']), 100))\n",
    "for i in range(len(tweets_df)):\n",
    "    docvec_arrays[i,:] = d2v_model.docvecs[i].reshape((1,100))\n",
    "docvec_df = pd.DataFrame(docvec_arrays)\n",
    "docvec_df.shape\n",
    "# Etiqueta todos los tweets\n",
    "labeled_reviews = add_label(tweets_df['Texto Preprocesado'])"
   ]
  },
  {
   "cell_type": "code",
   "execution_count": 11,
   "id": "2c6eadd7",
   "metadata": {
    "id": "2c6eadd7"
   },
   "outputs": [],
   "source": [
    "#Definimos conjunto de entrenamiento y test\n",
    "X = docvec_df #Tweet\n",
    "y = target #Positivo o Negativo\n",
    "\n",
    "X_train, X_test, y_train, y_test  = train_test_split(X,y,train_size=0.9,random_state=0)"
   ]
  },
  {
   "cell_type": "code",
   "execution_count": 12,
   "id": "2a99be1a",
   "metadata": {
    "id": "2a99be1a"
   },
   "outputs": [],
   "source": [
    "#Instanciamos y entremaos el clasificador KNeighbors con los hiperparametros por defecto\n",
    "kn = KNeighborsClassifier(n_neighbors=5, weights='uniform', algorithm='auto', leaf_size=30, p=2, metric='minkowski', metric_params=None, n_jobs=None).fit(X_train, y_train)"
   ]
  },
  {
   "cell_type": "code",
   "execution_count": 13,
   "id": "a44f61aa",
   "metadata": {
    "id": "a44f61aa"
   },
   "outputs": [],
   "source": [
    "#Predecimos\n",
    "kn_predict = kn.predict(X_test)"
   ]
  },
  {
   "cell_type": "code",
   "execution_count": 14,
   "id": "5a483a28",
   "metadata": {
    "executionInfo": {
     "elapsed": 40,
     "status": "aborted",
     "timestamp": 1681239214357,
     "user": {
      "displayName": "Francisco Gil Sánchez-Carrasco",
      "userId": "17325861859882667977"
     },
     "user_tz": -60
    },
    "id": "5a483a28",
    "outputId": "680bbace-03f5-40d9-dd29-c7d770cbe720"
   },
   "outputs": [
    {
     "name": "stdout",
     "output_type": "stream",
     "text": [
      "Accuracy: 0.7945\n"
     ]
    }
   ],
   "source": [
    "kn_report = accuracy_score(y_test,kn_predict)\n",
    "print('Accuracy:',kn_report)"
   ]
  },
  {
   "cell_type": "code",
   "execution_count": 15,
   "id": "add3f16d",
   "metadata": {
    "executionInfo": {
     "elapsed": 40,
     "status": "aborted",
     "timestamp": 1681239214357,
     "user": {
      "displayName": "Francisco Gil Sánchez-Carrasco",
      "userId": "17325861859882667977"
     },
     "user_tz": -60
    },
    "id": "add3f16d",
    "outputId": "f2a0b193-5bf3-4a4f-9614-77eb431de629"
   },
   "outputs": [
    {
     "name": "stdout",
     "output_type": "stream",
     "text": [
      "Recall: 0.8382573860791187\n"
     ]
    }
   ],
   "source": [
    "kn_report1 = recall_score(y_test,kn_predict,pos_label='Positivo',average='binary')\n",
    "print('Recall:',kn_report1)"
   ]
  },
  {
   "cell_type": "code",
   "execution_count": 16,
   "id": "6e97fc6c",
   "metadata": {
    "executionInfo": {
     "elapsed": 41,
     "status": "aborted",
     "timestamp": 1681239214358,
     "user": {
      "displayName": "Francisco Gil Sánchez-Carrasco",
      "userId": "17325861859882667977"
     },
     "user_tz": -60
    },
    "id": "6e97fc6c",
    "outputId": "cd88333f-222c-425c-9410-57dc845155b4"
   },
   "outputs": [
    {
     "name": "stdout",
     "output_type": "stream",
     "text": [
      "Precision: 0.7703635526921307\n"
     ]
    }
   ],
   "source": [
    "kn_report2 = precision_score(y_test,kn_predict,pos_label='Positivo',average='binary')\n",
    "print('Precision:',kn_report2)"
   ]
  },
  {
   "cell_type": "code",
   "execution_count": 17,
   "id": "0995bd12",
   "metadata": {
    "executionInfo": {
     "elapsed": 42,
     "status": "aborted",
     "timestamp": 1681239214359,
     "user": {
      "displayName": "Francisco Gil Sánchez-Carrasco",
      "userId": "17325861859882667977"
     },
     "user_tz": -60
    },
    "id": "0995bd12",
    "outputId": "90ae7aa8-06a5-4517-876a-5f0bce12dad1"
   },
   "outputs": [
    {
     "data": {
      "text/plain": [
       "<AxesSubplot:title={'center':'ROC Curves'}, xlabel='False Positive Rate', ylabel='True Positive Rate'>"
      ]
     },
     "execution_count": 17,
     "metadata": {},
     "output_type": "execute_result"
    },
    {
     "data": {
      "image/png": "[encoded data removed]",
      "text/plain": [
       "<Figure size 432x288 with 1 Axes>"
      ]
     },
     "metadata": {
      "needs_background": "light"
     },
     "output_type": "display_data"
    }
   ],
   "source": [
    "skplt.metrics.plot_roc(y_test, kn.predict_proba(X_test))"
   ]
  },
  {
   "cell_type": "code",
   "execution_count": null,
   "id": "9a7f1717",
   "metadata": {
    "id": "9a7f1717"
   },
   "outputs": [],
   "source": []
  }
 ],
 "metadata": {
  "colab": {
   "provenance": []
  },
  "kernelspec": {
   "display_name": "Python 3 (ipykernel)",
   "language": "python",
   "name": "python3"
  },
  "language_info": {
   "codemirror_mode": {
    "name": "ipython",
    "version": 3
   },
   "file_extension": ".py",
   "mimetype": "text/x-python",
   "name": "python",
   "nbconvert_exporter": "python",
   "pygments_lexer": "ipython3",
   "version": "3.9.7"
  }
 },
 "nbformat": 4,
 "nbformat_minor": 5
}

{
 "cells": [
  {
   "cell_type": "code",
   "execution_count": null,
   "id": "6a578f26",
   "metadata": {
    "id": "6a578f26"
   },
   "outputs": [],
   "source": [
    "import pandas as pd\n",
    "import numpy as np\n",
    "import matplotlib.pyplot as plt\n",
    "import seaborn as sns\n",
    "import scikitplot as skplt\n",
    "from tqdm import tqdm\n",
    "from gensim.models.doc2vec import TaggedDocument\n",
    "from sklearn.model_selection import train_test_split\n",
    "from sklearn.metrics import classification_report,confusion_matrix,accuracy_score,recall_score,precision_score,make_scorer,make_scorer, f1_score, roc_auc_score\n",
    "from sklearn.neighbors import KNeighborsClassifier\n",
    "from sklearn.model_selection import GridSearchCV\n",
    "pd.set_option('display.float_format', lambda x: '%.3f' % x)"
   ]
  },
  {
   "cell_type": "code",
   "execution_count": null,
   "id": "194fb3aa",
   "metadata": {
    "executionInfo": {
     "elapsed": 34,
     "status": "aborted",
     "timestamp": 1681239214348,
     "user": {
      "displayName": "Jesus Garcia Valverde",
      "userId": "17325861859882667977"
     },
     "user_tz": -60
    },
    "id": "194fb3aa",
    "outputId": "e473c35c-fbb1-4c3e-c81e-29bdc96d329c"
   },
   "outputs": [
    {
     "data": {
      "text/html": [
       "<div>\n",
       "<style scoped>\n",
       "    .dataframe tbody tr th:only-of-type {\n",
       "        vertical-align: middle;\n",
       "    }\n",
       "\n",
       "    .dataframe tbody tr th {\n",
       "        vertical-align: top;\n",
       "    }\n",
       "\n",
       "    .dataframe thead th {\n",
       "        text-align: right;\n",
       "    }\n",
       "</style>\n",
       "<table border=\"1\" class=\"dataframe\">\n",
       "  <thead>\n",
       "    <tr style=\"text-align: right;\">\n",
       "      <th></th>\n",
       "      <th>text</th>\n",
       "      <th>author</th>\n",
       "      <th>source</th>\n",
       "      <th>timestamp</th>\n",
       "      <th>id</th>\n",
       "      <th>Puntuaciones</th>\n",
       "      <th>Puntuacion</th>\n",
       "      <th>Polaridad</th>\n",
       "      <th>Texto Preprocesado</th>\n",
       "      <th>Raiz Palabras</th>\n",
       "    </tr>\n",
       "  </thead>\n",
       "  <tbody>\n",
       "    <tr>\n",
       "      <th>0</th>\n",
       "      <td>estrenos mensuales en  netflix disney y prime ...</td>\n",
       "      <td>159917675</td>\n",
       "      <td>Twitter for iPhone</td>\n",
       "      <td>2022-01-01 01:22:09</td>\n",
       "      <td>1477087717167087621</td>\n",
       "      <td>{'neg': 0.0, 'neu': 1.0, 'pos': 0.0, 'compound...</td>\n",
       "      <td>0.000</td>\n",
       "      <td>Neutral</td>\n",
       "      <td>estrenos mensuales netflix disney prime video ...</td>\n",
       "      <td>estren mensual netflix disney prim vide blog</td>\n",
       "    </tr>\n",
       "    <tr>\n",
       "      <th>1</th>\n",
       "      <td>albert alfred y la magia echa serie music...</td>\n",
       "      <td>385918940</td>\n",
       "      <td>Twitter for Android</td>\n",
       "      <td>2022-01-01 02:27:16</td>\n",
       "      <td>1477104103926996994</td>\n",
       "      <td>{'neg': 0.0, 'neu': 0.945, 'pos': 0.055, 'comp...</td>\n",
       "      <td>0.421</td>\n",
       "      <td>Positivo</td>\n",
       "      <td>albert alfredo magia echa serie musica literat...</td>\n",
       "      <td>albert alfred magi echa seri music literatur n...</td>\n",
       "    </tr>\n",
       "    <tr>\n",
       "      <th>2</th>\n",
       "      <td>tratar a todos los equipos de futbol en las r...</td>\n",
       "      <td>238286158</td>\n",
       "      <td>Talon Android</td>\n",
       "      <td>2022-01-01 08:20:30</td>\n",
       "      <td>1477192997016113153</td>\n",
       "      <td>{'neg': 0.0, 'neu': 0.748, 'pos': 0.252, 'comp...</td>\n",
       "      <td>0.402</td>\n",
       "      <td>Positivo</td>\n",
       "      <td>tratar equipos futbol retransmisiones igual</td>\n",
       "      <td>trat equip futbol retransmision igual</td>\n",
       "    </tr>\n",
       "    <tr>\n",
       "      <th>3</th>\n",
       "      <td>bajada de precio de la fibra mejorar la calid...</td>\n",
       "      <td>82388144</td>\n",
       "      <td>Twitter for Android</td>\n",
       "      <td>2022-01-01 08:51:51</td>\n",
       "      <td>1477200887663804421</td>\n",
       "      <td>{'neg': 0.081, 'neu': 0.704, 'pos': 0.215, 'co...</td>\n",
       "      <td>0.557</td>\n",
       "      <td>Positivo</td>\n",
       "      <td>bajada precio fibra mejorar calidad sonido ima...</td>\n",
       "      <td>baj preci fibr mejor calid son imag canal mejo...</td>\n",
       "    </tr>\n",
       "    <tr>\n",
       "      <th>4</th>\n",
       "      <td>postes de  cortando la dp a la altura del km e...</td>\n",
       "      <td>196401713</td>\n",
       "      <td>Twitter for iPhone</td>\n",
       "      <td>2022-01-01 09:22:55</td>\n",
       "      <td>1477208706182000640</td>\n",
       "      <td>{'neg': 0.097, 'neu': 0.903, 'pos': 0.0, 'comp...</td>\n",
       "      <td>-0.128</td>\n",
       "      <td>Negativo</td>\n",
       "      <td>postes cortando altura km ares corona</td>\n",
       "      <td>post cort altur km ares coron</td>\n",
       "    </tr>\n",
       "    <tr>\n",
       "      <th>...</th>\n",
       "      <td>...</td>\n",
       "      <td>...</td>\n",
       "      <td>...</td>\n",
       "      <td>...</td>\n",
       "      <td>...</td>\n",
       "      <td>...</td>\n",
       "      <td>...</td>\n",
       "      <td>...</td>\n",
       "      <td>...</td>\n",
       "      <td>...</td>\n",
       "    </tr>\n",
       "    <tr>\n",
       "      <th>159851</th>\n",
       "      <td>los clientes ya sabemos eso los que no se sab...</td>\n",
       "      <td>1227852829257326592</td>\n",
       "      <td>Twitter Web App</td>\n",
       "      <td>2022-06-30 20:26:43</td>\n",
       "      <td>1542605573895725056</td>\n",
       "      <td>{'neg': 0.056, 'neu': 0.792, 'pos': 0.151, 'co...</td>\n",
       "      <td>0.476</td>\n",
       "      <td>Positivo</td>\n",
       "      <td>clientes sabemos saben cumplen contrato deberi...</td>\n",
       "      <td>client sab sab cumpl contrat deberi leer contr...</td>\n",
       "    </tr>\n",
       "    <tr>\n",
       "      <th>159852</th>\n",
       "      <td>lo que me gustaria saber es por que llevo una...</td>\n",
       "      <td>1168354052</td>\n",
       "      <td>Twitter for Android</td>\n",
       "      <td>2022-06-30 21:07:14</td>\n",
       "      <td>1542615768289902592</td>\n",
       "      <td>{'neg': 0.0, 'neu': 0.796, 'pos': 0.204, 'comp...</td>\n",
       "      <td>0.827</td>\n",
       "      <td>Positivo</td>\n",
       "      <td>gustaria saber llevo semana contratando servic...</td>\n",
       "      <td>gustari sab llev seman contrat servici ofert g...</td>\n",
       "    </tr>\n",
       "    <tr>\n",
       "      <th>159853</th>\n",
       "      <td>deberias cambiar esa bandera absurda o ahora ...</td>\n",
       "      <td>1397178749985202176</td>\n",
       "      <td>Twitter for Android</td>\n",
       "      <td>2022-06-30 21:55:32</td>\n",
       "      <td>1542627925358481409</td>\n",
       "      <td>{'neg': 0.0, 'neu': 1.0, 'pos': 0.0, 'compound...</td>\n",
       "      <td>0.000</td>\n",
       "      <td>Neutral</td>\n",
       "      <td>deberias cambiar bandera absurda ahora lobo</td>\n",
       "      <td>deberi cambi bander absurd ahor lob</td>\n",
       "    </tr>\n",
       "    <tr>\n",
       "      <th>159854</th>\n",
       "      <td>ya me falta poco y cambio de empresa suerte</td>\n",
       "      <td>452596569</td>\n",
       "      <td>Twitter for Android</td>\n",
       "      <td>2022-06-30 22:17:56</td>\n",
       "      <td>1542633561169305602</td>\n",
       "      <td>{'neg': 0.0, 'neu': 0.732, 'pos': 0.268, 'comp...</td>\n",
       "      <td>0.509</td>\n",
       "      <td>Positivo</td>\n",
       "      <td>falta cambio empresa suerte</td>\n",
       "      <td>falt cambi empres suert</td>\n",
       "    </tr>\n",
       "    <tr>\n",
       "      <th>159855</th>\n",
       "      <td>por sus camaras</td>\n",
       "      <td>1537326778787807232</td>\n",
       "      <td>Twitter for Android</td>\n",
       "      <td>2022-06-30 23:39:56</td>\n",
       "      <td>1542654199678255110</td>\n",
       "      <td>{'neg': 0.0, 'neu': 1.0, 'pos': 0.0, 'compound...</td>\n",
       "      <td>0.000</td>\n",
       "      <td>Neutral</td>\n",
       "      <td>camaras</td>\n",
       "      <td>cam</td>\n",
       "    </tr>\n",
       "  </tbody>\n",
       "</table>\n",
       "<p>159856 rows × 10 columns</p>\n",
       "</div>"
      ],
      "text/plain": [
       "                                                     text  \\\n",
       "0       estrenos mensuales en  netflix disney y prime ...   \n",
       "1            albert alfred y la magia echa serie music...   \n",
       "2        tratar a todos los equipos de futbol en las r...   \n",
       "3        bajada de precio de la fibra mejorar la calid...   \n",
       "4       postes de  cortando la dp a la altura del km e...   \n",
       "...                                                   ...   \n",
       "159851   los clientes ya sabemos eso los que no se sab...   \n",
       "159852   lo que me gustaria saber es por que llevo una...   \n",
       "159853   deberias cambiar esa bandera absurda o ahora ...   \n",
       "159854        ya me falta poco y cambio de empresa suerte   \n",
       "159855                                    por sus camaras   \n",
       "\n",
       "                     author               source            timestamp  \\\n",
       "0                 159917675   Twitter for iPhone  2022-01-01 01:22:09   \n",
       "1                 385918940  Twitter for Android  2022-01-01 02:27:16   \n",
       "2                 238286158        Talon Android  2022-01-01 08:20:30   \n",
       "3                  82388144  Twitter for Android  2022-01-01 08:51:51   \n",
       "4                 196401713   Twitter for iPhone  2022-01-01 09:22:55   \n",
       "...                     ...                  ...                  ...   \n",
       "159851  1227852829257326592      Twitter Web App  2022-06-30 20:26:43   \n",
       "159852           1168354052  Twitter for Android  2022-06-30 21:07:14   \n",
       "159853  1397178749985202176  Twitter for Android  2022-06-30 21:55:32   \n",
       "159854            452596569  Twitter for Android  2022-06-30 22:17:56   \n",
       "159855  1537326778787807232  Twitter for Android  2022-06-30 23:39:56   \n",
       "\n",
       "                         id  \\\n",
       "0       1477087717167087621   \n",
       "1       1477104103926996994   \n",
       "2       1477192997016113153   \n",
       "3       1477200887663804421   \n",
       "4       1477208706182000640   \n",
       "...                     ...   \n",
       "159851  1542605573895725056   \n",
       "159852  1542615768289902592   \n",
       "159853  1542627925358481409   \n",
       "159854  1542633561169305602   \n",
       "159855  1542654199678255110   \n",
       "\n",
       "                                             Puntuaciones  Puntuacion  \\\n",
       "0       {'neg': 0.0, 'neu': 1.0, 'pos': 0.0, 'compound...       0.000   \n",
       "1       {'neg': 0.0, 'neu': 0.945, 'pos': 0.055, 'comp...       0.421   \n",
       "2       {'neg': 0.0, 'neu': 0.748, 'pos': 0.252, 'comp...       0.402   \n",
       "3       {'neg': 0.081, 'neu': 0.704, 'pos': 0.215, 'co...       0.557   \n",
       "4       {'neg': 0.097, 'neu': 0.903, 'pos': 0.0, 'comp...      -0.128   \n",
       "...                                                   ...         ...   \n",
       "159851  {'neg': 0.056, 'neu': 0.792, 'pos': 0.151, 'co...       0.476   \n",
       "159852  {'neg': 0.0, 'neu': 0.796, 'pos': 0.204, 'comp...       0.827   \n",
       "159853  {'neg': 0.0, 'neu': 1.0, 'pos': 0.0, 'compound...       0.000   \n",
       "159854  {'neg': 0.0, 'neu': 0.732, 'pos': 0.268, 'comp...       0.509   \n",
       "159855  {'neg': 0.0, 'neu': 1.0, 'pos': 0.0, 'compound...       0.000   \n",
       "\n",
       "       Polaridad                                 Texto Preprocesado  \\\n",
       "0        Neutral  estrenos mensuales netflix disney prime video ...   \n",
       "1       Positivo  albert alfredo magia echa serie musica literat...   \n",
       "2       Positivo        tratar equipos futbol retransmisiones igual   \n",
       "3       Positivo  bajada precio fibra mejorar calidad sonido ima...   \n",
       "4       Negativo              postes cortando altura km ares corona   \n",
       "...          ...                                                ...   \n",
       "159851  Positivo  clientes sabemos saben cumplen contrato deberi...   \n",
       "159852  Positivo  gustaria saber llevo semana contratando servic...   \n",
       "159853   Neutral        deberias cambiar bandera absurda ahora lobo   \n",
       "159854  Positivo                        falta cambio empresa suerte   \n",
       "159855   Neutral                                            camaras   \n",
       "\n",
       "                                            Raiz Palabras  \n",
       "0            estren mensual netflix disney prim vide blog  \n",
       "1       albert alfred magi echa seri music literatur n...  \n",
       "2                   trat equip futbol retransmision igual  \n",
       "3       baj preci fibr mejor calid son imag canal mejo...  \n",
       "4                           post cort altur km ares coron  \n",
       "...                                                   ...  \n",
       "159851  client sab sab cumpl contrat deberi leer contr...  \n",
       "159852  gustari sab llev seman contrat servici ofert g...  \n",
       "159853                deberi cambi bander absurd ahor lob  \n",
       "159854                            falt cambi empres suert  \n",
       "159855                                                cam  \n",
       "\n",
       "[159856 rows x 10 columns]"
      ]
     },
     "execution_count": 2,
     "metadata": {},
     "output_type": "execute_result"
    }
   ],
   "source": [
    "tweets_df =  pd.read_csv(\"tweets_preproc.csv\")\n",
    "tweets_df = tweets_df.drop('Unnamed: 0', axis=1)\n",
    "tweets_df"
   ]
  },
  {
   "cell_type": "code",
   "execution_count": null,
   "id": "08ff0b28",
   "metadata": {
    "executionInfo": {
     "elapsed": 34,
     "status": "aborted",
     "timestamp": 1681239214348,
     "user": {
      "displayName": "Francisco Gil Sánchez-Carrasco",
      "userId": "17325861859882667977"
     },
     "user_tz": -60
    },
    "id": "08ff0b28",
    "outputId": "582f31ee-1e85-4754-cb47-d607a742a7ec"
   },
   "outputs": [
    {
     "data": {
      "text/html": [
       "<div>\n",
       "<style scoped>\n",
       "    .dataframe tbody tr th:only-of-type {\n",
       "        vertical-align: middle;\n",
       "    }\n",
       "\n",
       "    .dataframe tbody tr th {\n",
       "        vertical-align: top;\n",
       "    }\n",
       "\n",
       "    .dataframe thead th {\n",
       "        text-align: right;\n",
       "    }\n",
       "</style>\n",
       "<table border=\"1\" class=\"dataframe\">\n",
       "  <thead>\n",
       "    <tr style=\"text-align: right;\">\n",
       "      <th></th>\n",
       "      <th>text</th>\n",
       "      <th>author</th>\n",
       "      <th>source</th>\n",
       "      <th>timestamp</th>\n",
       "      <th>id</th>\n",
       "      <th>Puntuaciones</th>\n",
       "      <th>Puntuacion</th>\n",
       "      <th>Polaridad</th>\n",
       "      <th>Texto Preprocesado</th>\n",
       "      <th>Raiz Palabras</th>\n",
       "    </tr>\n",
       "  </thead>\n",
       "  <tbody>\n",
       "    <tr>\n",
       "      <th>159513</th>\n",
       "      <td>conmigo misma y  y las mejores series</td>\n",
       "      <td>910621281137065985</td>\n",
       "      <td>Twitter for iPhone</td>\n",
       "      <td>2022-06-24 09:41:23</td>\n",
       "      <td>1540268841195945984</td>\n",
       "      <td>{'neg': 0.0, 'neu': 0.76, 'pos': 0.24, 'compou...</td>\n",
       "      <td>0.869</td>\n",
       "      <td>Positivo</td>\n",
       "      <td>conmigo misma mejores series</td>\n",
       "      <td>conmig mism mejor seri</td>\n",
       "    </tr>\n",
       "    <tr>\n",
       "      <th>6940</th>\n",
       "      <td>iria con   seria un sueno cumplido basket  y...</td>\n",
       "      <td>1456968943143432196</td>\n",
       "      <td>Twitter for Android</td>\n",
       "      <td>2022-02-02 18:57:37</td>\n",
       "      <td>1488949747532632065</td>\n",
       "      <td>{'neg': 0.0, 'neu': 0.638, 'pos': 0.362, 'comp...</td>\n",
       "      <td>0.844</td>\n",
       "      <td>Positivo</td>\n",
       "      <td>ira seria sueno cumplido base turismo perfecto</td>\n",
       "      <td>ira seri suen cumpl bas turism perfect</td>\n",
       "    </tr>\n",
       "    <tr>\n",
       "      <th>30590</th>\n",
       "      <td>iria con     al bernabeu</td>\n",
       "      <td>2669362090</td>\n",
       "      <td>Twitter for iPhone</td>\n",
       "      <td>2022-05-02 17:54:42</td>\n",
       "      <td>1521186434585137153</td>\n",
       "      <td>{'neg': 0.0, 'neu': 0.756, 'pos': 0.244, 'comp...</td>\n",
       "      <td>0.700</td>\n",
       "      <td>Positivo</td>\n",
       "      <td>ira bernabeu</td>\n",
       "      <td>ira bernabeu</td>\n",
       "    </tr>\n",
       "    <tr>\n",
       "      <th>152539</th>\n",
       "      <td>yo hace 4anos tengo  y he estado en todas la...</td>\n",
       "      <td>1188193526137458695</td>\n",
       "      <td>Twitter for Android</td>\n",
       "      <td>2022-04-03 06:21:43</td>\n",
       "      <td>1510502789226577924</td>\n",
       "      <td>{'neg': 0.072, 'neu': 0.694, 'pos': 0.234, 'co...</td>\n",
       "      <td>0.840</td>\n",
       "      <td>Positivo</td>\n",
       "      <td>hace manos todas empresas cobrado facturas tre...</td>\n",
       "      <td>hac man tod empres cobr factur tremend empres ...</td>\n",
       "    </tr>\n",
       "    <tr>\n",
       "      <th>145199</th>\n",
       "      <td>lo mejor es meterlo en spam directamente el ...</td>\n",
       "      <td>1500867471720521729</td>\n",
       "      <td>Twitter for Android</td>\n",
       "      <td>2022-06-17 15:00:45</td>\n",
       "      <td>1537812500602929155</td>\n",
       "      <td>{'neg': 0.114, 'neu': 0.636, 'pos': 0.25, 'com...</td>\n",
       "      <td>0.459</td>\n",
       "      <td>Positivo</td>\n",
       "      <td>mejor meterlo san directamente numero acabo</td>\n",
       "      <td>mejor met san direct numer acab</td>\n",
       "    </tr>\n",
       "    <tr>\n",
       "      <th>...</th>\n",
       "      <td>...</td>\n",
       "      <td>...</td>\n",
       "      <td>...</td>\n",
       "      <td>...</td>\n",
       "      <td>...</td>\n",
       "      <td>...</td>\n",
       "      <td>...</td>\n",
       "      <td>...</td>\n",
       "      <td>...</td>\n",
       "      <td>...</td>\n",
       "    </tr>\n",
       "    <tr>\n",
       "      <th>3324</th>\n",
       "      <td>tranquilos el servicio ya lo prestais voso...</td>\n",
       "      <td>1428441062713053186</td>\n",
       "      <td>Twitter for Android</td>\n",
       "      <td>2022-01-20 17:46:15</td>\n",
       "      <td>1484220744750047240</td>\n",
       "      <td>{'neg': 0.12, 'neu': 0.88, 'pos': 0.0, 'compou...</td>\n",
       "      <td>-0.459</td>\n",
       "      <td>Negativo</td>\n",
       "      <td>tranquilos servicio prestas cuanto descuidar c...</td>\n",
       "      <td>tranquil servici prest cuant descuid clav</td>\n",
       "    </tr>\n",
       "    <tr>\n",
       "      <th>7553</th>\n",
       "      <td>cada vez que intento ver futbol en un disposit...</td>\n",
       "      <td>531531240</td>\n",
       "      <td>Twitter for iPhone</td>\n",
       "      <td>2022-02-06 16:00:13</td>\n",
       "      <td>1490354652155678721</td>\n",
       "      <td>{'neg': 0.424, 'neu': 0.576, 'pos': 0.0, 'comp...</td>\n",
       "      <td>-0.870</td>\n",
       "      <td>Negativo</td>\n",
       "      <td>cada vez intento ver futbol dispositivo puta e...</td>\n",
       "      <td>cad vez intent ver futbol disposit put estaf</td>\n",
       "    </tr>\n",
       "    <tr>\n",
       "      <th>7148</th>\n",
       "      <td>veo que no es la primera vez que lo hacen en ...</td>\n",
       "      <td>1060076005</td>\n",
       "      <td>Twitter for iPhone</td>\n",
       "      <td>2022-02-04 10:42:01</td>\n",
       "      <td>1489549800546742272</td>\n",
       "      <td>{'neg': 0.137, 'neu': 0.863, 'pos': 0.0, 'comp...</td>\n",
       "      <td>-0.542</td>\n",
       "      <td>Negativo</td>\n",
       "      <td>veo primera vez hacen caso acosaban senora anos</td>\n",
       "      <td>veo primer vez hac cas acos senor anos</td>\n",
       "    </tr>\n",
       "    <tr>\n",
       "      <th>137740</th>\n",
       "      <td>una mierda de compania</td>\n",
       "      <td>1707978408</td>\n",
       "      <td>Twitter for iPhone</td>\n",
       "      <td>2022-04-23 09:28:35</td>\n",
       "      <td>1517797572840153089</td>\n",
       "      <td>{'neg': 0.448, 'neu': 0.552, 'pos': 0.0, 'comp...</td>\n",
       "      <td>-0.707</td>\n",
       "      <td>Negativo</td>\n",
       "      <td>mierda compania</td>\n",
       "      <td>mierd compani</td>\n",
       "    </tr>\n",
       "    <tr>\n",
       "      <th>109813</th>\n",
       "      <td>ya no hace falta pronto dejo de sufriros</td>\n",
       "      <td>1228589200901132298</td>\n",
       "      <td>Twitter for Android</td>\n",
       "      <td>2022-03-30 16:23:50</td>\n",
       "      <td>1509204765619769344</td>\n",
       "      <td>{'neg': 0.556, 'neu': 0.444, 'pos': 0.0, 'comp...</td>\n",
       "      <td>-0.758</td>\n",
       "      <td>Negativo</td>\n",
       "      <td>hace falta pronto dejo sufridos</td>\n",
       "      <td>hac falt pront dej sufr</td>\n",
       "    </tr>\n",
       "  </tbody>\n",
       "</table>\n",
       "<p>40000 rows × 10 columns</p>\n",
       "</div>"
      ],
      "text/plain": [
       "                                                     text  \\\n",
       "159513             conmigo misma y  y las mejores series    \n",
       "6940      iria con   seria un sueno cumplido basket  y...   \n",
       "30590                          iria con     al bernabeu     \n",
       "152539    yo hace 4anos tengo  y he estado en todas la...   \n",
       "145199    lo mejor es meterlo en spam directamente el ...   \n",
       "...                                                   ...   \n",
       "3324        tranquilos el servicio ya lo prestais voso...   \n",
       "7553    cada vez que intento ver futbol en un disposit...   \n",
       "7148     veo que no es la primera vez que lo hacen en ...   \n",
       "137740                            una mierda de compania    \n",
       "109813           ya no hace falta pronto dejo de sufriros   \n",
       "\n",
       "                     author               source            timestamp  \\\n",
       "159513   910621281137065985   Twitter for iPhone  2022-06-24 09:41:23   \n",
       "6940    1456968943143432196  Twitter for Android  2022-02-02 18:57:37   \n",
       "30590            2669362090   Twitter for iPhone  2022-05-02 17:54:42   \n",
       "152539  1188193526137458695  Twitter for Android  2022-04-03 06:21:43   \n",
       "145199  1500867471720521729  Twitter for Android  2022-06-17 15:00:45   \n",
       "...                     ...                  ...                  ...   \n",
       "3324    1428441062713053186  Twitter for Android  2022-01-20 17:46:15   \n",
       "7553              531531240   Twitter for iPhone  2022-02-06 16:00:13   \n",
       "7148             1060076005   Twitter for iPhone  2022-02-04 10:42:01   \n",
       "137740           1707978408   Twitter for iPhone  2022-04-23 09:28:35   \n",
       "109813  1228589200901132298  Twitter for Android  2022-03-30 16:23:50   \n",
       "\n",
       "                         id  \\\n",
       "159513  1540268841195945984   \n",
       "6940    1488949747532632065   \n",
       "30590   1521186434585137153   \n",
       "152539  1510502789226577924   \n",
       "145199  1537812500602929155   \n",
       "...                     ...   \n",
       "3324    1484220744750047240   \n",
       "7553    1490354652155678721   \n",
       "7148    1489549800546742272   \n",
       "137740  1517797572840153089   \n",
       "109813  1509204765619769344   \n",
       "\n",
       "                                             Puntuaciones  Puntuacion  \\\n",
       "159513  {'neg': 0.0, 'neu': 0.76, 'pos': 0.24, 'compou...       0.869   \n",
       "6940    {'neg': 0.0, 'neu': 0.638, 'pos': 0.362, 'comp...       0.844   \n",
       "30590   {'neg': 0.0, 'neu': 0.756, 'pos': 0.244, 'comp...       0.700   \n",
       "152539  {'neg': 0.072, 'neu': 0.694, 'pos': 0.234, 'co...       0.840   \n",
       "145199  {'neg': 0.114, 'neu': 0.636, 'pos': 0.25, 'com...       0.459   \n",
       "...                                                   ...         ...   \n",
       "3324    {'neg': 0.12, 'neu': 0.88, 'pos': 0.0, 'compou...      -0.459   \n",
       "7553    {'neg': 0.424, 'neu': 0.576, 'pos': 0.0, 'comp...      -0.870   \n",
       "7148    {'neg': 0.137, 'neu': 0.863, 'pos': 0.0, 'comp...      -0.542   \n",
       "137740  {'neg': 0.448, 'neu': 0.552, 'pos': 0.0, 'comp...      -0.707   \n",
       "109813  {'neg': 0.556, 'neu': 0.444, 'pos': 0.0, 'comp...      -0.758   \n",
       "\n",
       "       Polaridad                                 Texto Preprocesado  \\\n",
       "159513  Positivo                       conmigo misma mejores series   \n",
       "6940    Positivo     ira seria sueno cumplido base turismo perfecto   \n",
       "30590   Positivo                                       ira bernabeu   \n",
       "152539  Positivo  hace manos todas empresas cobrado facturas tre...   \n",
       "145199  Positivo        mejor meterlo san directamente numero acabo   \n",
       "...          ...                                                ...   \n",
       "3324    Negativo  tranquilos servicio prestas cuanto descuidar c...   \n",
       "7553    Negativo  cada vez intento ver futbol dispositivo puta e...   \n",
       "7148    Negativo    veo primera vez hacen caso acosaban senora anos   \n",
       "137740  Negativo                                    mierda compania   \n",
       "109813  Negativo                    hace falta pronto dejo sufridos   \n",
       "\n",
       "                                            Raiz Palabras  \n",
       "159513                             conmig mism mejor seri  \n",
       "6940               ira seri suen cumpl bas turism perfect  \n",
       "30590                                        ira bernabeu  \n",
       "152539  hac man tod empres cobr factur tremend empres ...  \n",
       "145199                    mejor met san direct numer acab  \n",
       "...                                                   ...  \n",
       "3324            tranquil servici prest cuant descuid clav  \n",
       "7553         cad vez intent ver futbol disposit put estaf  \n",
       "7148               veo primer vez hac cas acos senor anos  \n",
       "137740                                      mierd compani  \n",
       "109813                            hac falt pront dej sufr  \n",
       "\n",
       "[40000 rows x 10 columns]"
      ]
     },
     "execution_count": 3,
     "metadata": {},
     "output_type": "execute_result"
    }
   ],
   "source": [
    "tweets_positivo_df = tweets_df[tweets_df['Polaridad'] == \"Positivo\"]\n",
    "tweets_positivo_df = tweets_positivo_df.dropna()\n",
    "tweets_positivo_df = tweets_positivo_df.sample(n = 20000)\n",
    "\n",
    "tweets_negativo_df = tweets_df[tweets_df['Polaridad'] == \"Negativo\"]\n",
    "tweets_negativo_df = tweets_negativo_df.dropna()\n",
    "tweets_negativo_df = tweets_negativo_df.sample(n = 20000)\n",
    "\n",
    "tweets_df = pd.concat([tweets_positivo_df,tweets_negativo_df])\n",
    "tweets_df"
   ]
  },
  {
   "cell_type": "code",
   "execution_count": null,
   "id": "b7468768",
   "metadata": {
    "executionInfo": {
     "elapsed": 35,
     "status": "aborted",
     "timestamp": 1681239214349,
     "user": {
      "displayName": "Francisco Gil Sánchez-Carrasco",
      "userId": "17325861859882667977"
     },
     "user_tz": -60
    },
    "id": "b7468768",
    "outputId": "306a4804-7fad-46c2-de18-586af721535c",
    "scrolled": true
   },
   "outputs": [
    {
     "data": {
      "image/png": "[encoded data removed]",
      "text/plain": [
       "<Figure size 432x288 with 1 Axes>"
      ]
     },
     "metadata": {
      "needs_background": "light"
     },
     "output_type": "display_data"
    }
   ],
   "source": [
    "count_class=pd.value_counts(tweets_df[\"Polaridad\"], sort= True)\n",
    "count_class.plot(kind= 'bar', color= [\"blue\", \"orange\"])\n",
    "plt.title('Proportion Target Class')\n",
    "plt.show()"
   ]
  },
  {
   "cell_type": "code",
   "execution_count": null,
   "id": "6643fd1d",
   "metadata": {
    "id": "6643fd1d"
   },
   "outputs": [],
   "source": [
    "tweets_df['Texto Preprocesado'] = tweets_df['Texto Preprocesado'].astype(str)"
   ]
  },
  {
   "cell_type": "code",
   "execution_count": null,
   "id": "6b1c314e",
   "metadata": {
    "id": "6b1c314e"
   },
   "outputs": [],
   "source": [
    "main_text = tweets_df['Texto Preprocesado']\n",
    "target = tweets_df['Polaridad']"
   ]
  },
  {
   "cell_type": "code",
   "execution_count": null,
   "id": "14850340",
   "metadata": {
    "executionInfo": {
     "elapsed": 36,
     "status": "aborted",
     "timestamp": 1681239214351,
     "user": {
      "displayName": "Francisco Gil Sánchez-Carrasco",
      "userId": "17325861859882667977"
     },
     "user_tz": -60
    },
    "id": "14850340",
    "outputId": "3e7501ed-542a-405a-be43-6961a1e35268"
   },
   "outputs": [
    {
     "data": {
      "text/plain": [
       "array(['Negativo', 'Positivo'], dtype=object)"
      ]
     },
     "execution_count": 7,
     "metadata": {},
     "output_type": "execute_result"
    }
   ],
   "source": [
    "n_classes = np.unique(target)\n",
    "n_classes"
   ]
  },
  {
   "cell_type": "code",
   "execution_count": null,
   "id": "138c323d",
   "metadata": {
    "id": "138c323d"
   },
   "outputs": [],
   "source": [
    "def add_label(tweet):\n",
    "    output = []\n",
    "    for i, s in zip(tweet.index, tweet):\n",
    "        output.append(TaggedDocument(s, [\"tweet_\" + str(i)]))\n",
    "    return output"
   ]
  },
  {
   "cell_type": "code",
   "execution_count": null,
   "id": "afd69bc1",
   "metadata": {
    "id": "afd69bc1"
   },
   "outputs": [],
   "source": [
    "labeled_tweets = add_label(main_text)"
   ]
  },
  {
   "cell_type": "code",
   "execution_count": null,
   "id": "2f9fedc4",
   "metadata": {
    "executionInfo": {
     "elapsed": 36,
     "status": "aborted",
     "timestamp": 1681239214352,
     "user": {
      "displayName": "Francisco Gil Sánchez-Carrasco",
      "userId": "17325861859882667977"
     },
     "user_tz": -60
    },
    "id": "2f9fedc4",
    "outputId": "a7f2645a-ce24-4989-9418-738ddb28f645"
   },
   "outputs": [
    {
     "name": "stderr",
     "output_type": "stream",
     "text": [
      "100%|██████████| 40000/40000 [00:00<00:00, 1250090.61it/s]\n",
      "C:\\Users\\curri\\AppData\\Local\\Temp/ipykernel_8140/3853302831.py:10: DeprecationWarning: Call to deprecated `docvecs` (The `docvecs` property has been renamed `dv`.).\n",
      "  docvec_arrays[i,:] = d2v_model.docvecs[i].reshape((1,100))\n"
     ]
    }
   ],
   "source": [
    "#Necesitamos vectorizar el conjunto de tweets utilizando Doc2Vec\n",
    "from gensim.models import Doc2Vec\n",
    "\n",
    "d2v_model = Doc2Vec(vector_size=100, min_count=5, epochs=10)\n",
    "d2v_model.build_vocab([i for i in tqdm(labeled_tweets)])\n",
    "d2v_model.train(labeled_tweets, total_examples=len(tweets_df['Texto Preprocesado']),epochs=10)\n",
    "# Crea los vectores de tweets\n",
    "docvec_arrays = np.zeros((len(tweets_df['Texto Preprocesado']), 100))\n",
    "for i in range(len(tweets_df)):\n",
    "    docvec_arrays[i,:] = d2v_model.docvecs[i].reshape((1,100))\n",
    "docvec_df = pd.DataFrame(docvec_arrays)\n",
    "docvec_df.shape\n",
    "# Etiqueta todos los tweets\n",
    "labeled_reviews = add_label(tweets_df['Texto Preprocesado'])"
   ]
  },
  {
   "cell_type": "code",
   "execution_count": null,
   "id": "2c6eadd7",
   "metadata": {
    "id": "2c6eadd7"
   },
   "outputs": [],
   "source": [
    "#Definimos conjunto de entrenamiento y test\n",
    "X = docvec_df #Tweet\n",
    "y = target #Positivo o Negativo\n",
    "\n",
    "X_train, X_test, y_train, y_test  = train_test_split(X,y,train_size=0.9,random_state=0)"
   ]
  },
  {
   "cell_type": "code",
   "execution_count": null,
   "id": "9a7f1717",
   "metadata": {
    "id": "9a7f1717",
    "outputId": "d1040d39-732f-4b8a-f74d-c0a82547ed5b",
    "scrolled": true
   },
   "outputs": [
    {
     "name": "stdout",
     "output_type": "stream",
     "text": [
      "Fitting 5 folds for each of 18 candidates, totalling 90 fits\n",
      "Best Accuracy Through Grid Search : 0.789\n",
      "Best Parameters : {'metric': 'manhattan', 'n_neighbors': 7, 'weights': 'uniform'}\n",
      "\n"
     ]
    }
   ],
   "source": [
    "# Definir el clasificador\n",
    "knn = KNeighborsClassifier()\n",
    "\n",
    "# Definir los parámetros a explorar en GridSearch\n",
    "parameters = {'n_neighbors': [3, 5, 7],\n",
    "              'weights': ['uniform', 'distance'],\n",
    "              'metric': ['euclidean', 'manhattan','minkowski']}\n",
    "\n",
    "# Definir las métricas a utilizar\n",
    "scoring = {\n",
    "    'accuracy': make_scorer(accuracy_score),\n",
    "    'f1': make_scorer(f1_score, average='weighted'),\n",
    "    'roc_auc': make_scorer(roc_auc_score,needs_threshold=True)\n",
    "}\n",
    "\n",
    "# Realizar GridSearch\n",
    "kn_cv = GridSearchCV(knn, parameters, scoring=scoring, refit='accuracy', n_jobs=-1, cv=5, verbose=10)\n",
    "kn_cv.fit(X_train, y_train)\n",
    "\n",
    "# Predice los datos de test\n",
    "y_pred = kn_cv.predict(X_test)\n",
    "\n",
    "print('Best Accuracy Through Grid Search : {:.3f}'.format(kn_cv.best_score_))\n",
    "print('Best Parameters : {}\\n'.format(kn_cv.best_params_))"
   ]
  },
  {
   "cell_type": "code",
   "execution_count": null,
   "id": "ef1f9e4c",
   "metadata": {
    "id": "ef1f9e4c",
    "outputId": "2cf86705-9dd0-467e-d24d-0acee0637ae3"
   },
   "outputs": [
    {
     "name": "stdout",
     "output_type": "stream",
     "text": [
      "0.76853 0.76830 0.83328 for {'metric': 'euclidean', 'n_neighbors': 3, 'weights': 'uniform'}\n",
      "0.76853 0.76830 0.83555 for {'metric': 'euclidean', 'n_neighbors': 3, 'weights': 'distance'}\n",
      "0.78153 0.78132 0.85962 for {'metric': 'euclidean', 'n_neighbors': 5, 'weights': 'uniform'}\n",
      "0.78153 0.78132 0.86181 for {'metric': 'euclidean', 'n_neighbors': 5, 'weights': 'distance'}\n",
      "0.78633 0.78614 0.86986 for {'metric': 'euclidean', 'n_neighbors': 7, 'weights': 'uniform'}\n",
      "0.78633 0.78614 0.87222 for {'metric': 'euclidean', 'n_neighbors': 7, 'weights': 'distance'}\n",
      "0.76842 0.76818 0.83032 for {'metric': 'manhattan', 'n_neighbors': 3, 'weights': 'uniform'}\n",
      "0.76842 0.76818 0.83208 for {'metric': 'manhattan', 'n_neighbors': 3, 'weights': 'distance'}\n",
      "0.78161 0.78140 0.85799 for {'metric': 'manhattan', 'n_neighbors': 5, 'weights': 'uniform'}\n",
      "0.78161 0.78140 0.85968 for {'metric': 'manhattan', 'n_neighbors': 5, 'weights': 'distance'}\n",
      "0.78853 0.78831 0.86976 for {'metric': 'manhattan', 'n_neighbors': 7, 'weights': 'uniform'}\n",
      "0.78853 0.78831 0.87144 for {'metric': 'manhattan', 'n_neighbors': 7, 'weights': 'distance'}\n",
      "0.76853 0.76830 0.83328 for {'metric': 'minkowski', 'n_neighbors': 3, 'weights': 'uniform'}\n",
      "0.76853 0.76830 0.83555 for {'metric': 'minkowski', 'n_neighbors': 3, 'weights': 'distance'}\n",
      "0.78153 0.78132 0.85962 for {'metric': 'minkowski', 'n_neighbors': 5, 'weights': 'uniform'}\n",
      "0.78153 0.78132 0.86181 for {'metric': 'minkowski', 'n_neighbors': 5, 'weights': 'distance'}\n",
      "0.78633 0.78614 0.86986 for {'metric': 'minkowski', 'n_neighbors': 7, 'weights': 'uniform'}\n",
      "0.78633 0.78614 0.87222 for {'metric': 'minkowski', 'n_neighbors': 7, 'weights': 'distance'}\n"
     ]
    }
   ],
   "source": [
    "for accuracy, f1, roc_auc, params in zip(kn_cv.cv_results_['mean_test_accuracy'],\n",
    "                             kn_cv.cv_results_['mean_test_f1'], kn_cv.cv_results_['mean_test_roc_auc'],\n",
    "                             kn_cv.cv_results_['params']):\n",
    "       print(\"%0.5f %0.5f %0.5f for %r\" % (accuracy,f1,roc_auc, params))"
   ]
  },
  {
   "cell_type": "code",
   "execution_count": null,
   "id": "46e7a1e6",
   "metadata": {
    "id": "46e7a1e6"
   },
   "outputs": [],
   "source": [
    "from sklearn.metrics import confusion_matrix, classification_report\n",
    "import seaborn as sns\n",
    "def ConfusionMatrix(y_pred, y_test):\n",
    "     # Compute and plot the Confusion matrix\n",
    "     cf_matrix = confusion_matrix(y_test, y_pred)\n",
    "     categories = ['Negativo','Positivo']\n",
    "     group_names = ['True Neg','False Pos', 'False Neg','True Pos']\n",
    "     group_percentages = ['{0:.2%}'.format(value) for value in cf_matrix.flatten() /\n",
    "    np.sum(cf_matrix)]\n",
    "     labels = [f'{v1}\\n{v2}' for v1, v2 in zip(group_names,group_percentages)]\n",
    "     labels = np.asarray(labels).reshape(2,2)\n",
    "     sns.heatmap(cf_matrix, annot = labels, cmap = 'Blues',fmt = '',\n",
    "     xticklabels = categories, yticklabels = categories)\n",
    "     plt.xlabel(\"Predicted label\", fontdict = {'size':14}, labelpad = 10)\n",
    "     plt.ylabel(\"True label\" , fontdict = {'size':14}, labelpad = 10)\n",
    "     plt.title (\"Matriz de confusion\", fontdict = {'size':18}, pad = 20)"
   ]
  },
  {
   "cell_type": "code",
   "execution_count": null,
   "id": "bec23b26",
   "metadata": {
    "id": "bec23b26",
    "outputId": "e100fcb4-e6fc-4c39-dc48-b4b4eb5831c7"
   },
   "outputs": [
    {
     "data": {
      "image/png": "[encoded data removed]",
      "text/plain": [
       "<Figure size 432x288 with 2 Axes>"
      ]
     },
     "metadata": {
      "needs_background": "light"
     },
     "output_type": "display_data"
    }
   ],
   "source": [
    "ConfusionMatrix(y_pred, y_test)"
   ]
  },
{
   "cell_type": "code",
   "execution_count": null,
   "id": "6a344311",
   "metadata": {},
   "outputs": [
    {
     "name": "stdout",
     "output_type": "stream",
     "text": [
      "Test Accuracy (KN): 0.778\n"
     ]
    }
   ],
   "source": [
    "clf = kn_cv.best_estimator_\n",
    "print('Test Accuracy (KN): %.3f' % clf.score(X_test,y_test))"
   ]
  },
  {
   "cell_type": "code",
   "execution_count": null,
   "id": "6a344311",
   "metadata": {
    "id": "6a344311"
   },
   "outputs": [],
   "source": []
  }
 ],
 "metadata": {
  "colab": {
   "provenance": []
  },
  "kernelspec": {
   "display_name": "Python 3 (ipykernel)",
   "language": "python",
   "name": "python3"
  },
  "language_info": {
   "codemirror_mode": {
    "name": "ipython",
    "version": 3
   },
   "file_extension": ".py",
   "mimetype": "text/x-python",
   "name": "python",
   "nbconvert_exporter": "python",
   "pygments_lexer": "ipython3",
   "version": "3.9.7"
  }
 },
 "nbformat": 4,
 "nbformat_minor": 5
}
